{
  "nbformat": 4,
  "nbformat_minor": 0,
  "metadata": {
    "colab": {
      "provenance": []
    },
    "kernelspec": {
      "name": "python3",
      "display_name": "Python 3"
    },
    "language_info": {
      "name": "python"
    }
  },
  "cells": [
    {
      "cell_type": "code",
      "source": [
        "!pip install transformers"
      ],
      "metadata": {
        "id": "b60JLqKB-Dwq"
      },
      "execution_count": null,
      "outputs": []
    },
    {
      "cell_type": "code",
      "source": [
        "import transformers\n",
        "from transformers import pipeline"
      ],
      "metadata": {
        "id": "7O0Mwi5z-U_W"
      },
      "execution_count": null,
      "outputs": []
    },
    {
      "cell_type": "code",
      "source": [
        "gerador = pipeline(\"text-generation\", model=\"pierreguillou/gpt2-small-portuguese\")\n",
        "texto = \"Um transformers é um grande modelo de linguagem natural\"\n",
        "resultado = gerador(texto, max_length=100, do_sample=True)\n",
        "print(resultado)"
      ],
      "metadata": {
        "colab": {
          "base_uri": "https://localhost:8080/"
        },
        "id": "8FnCrH_G-eyY",
        "outputId": "404f45e2-aa3e-4394-a5a4-9d45a375c6ce"
      },
      "execution_count": null,
      "outputs": [
        {
          "output_type": "stream",
          "name": "stderr",
          "text": [
            "Setting `pad_token_id` to `eos_token_id`:50256 for open-end generation.\n"
          ]
        },
        {
          "output_type": "stream",
          "name": "stdout",
          "text": [
            "[{'generated_text': 'Um transformers é um grande modelo de linguagem natural construído para a linguagem de programação orientada a objetos. O conceito de objeto de objetos é usado para definir as propriedades de uma variável sintaticamente abstrata em uma linguagem apropriada para isto.\\nNa linguagem natural, o objeto é usado principalmente para as propriedades lógicas das variáveis que são manipuladas. A mais importante propriedade é a semântica, que exige que cada operador seja interpretado como uma descrição lógica.\\n\\nA maioria das linguagens orientadas a objetos não possui uma semântica'}]\n"
          ]
        }
      ]
    },
    {
      "cell_type": "code",
      "source": [],
      "metadata": {
        "id": "FtwqcjRe_2jW"
      },
      "execution_count": null,
      "outputs": []
    }
  ]
}