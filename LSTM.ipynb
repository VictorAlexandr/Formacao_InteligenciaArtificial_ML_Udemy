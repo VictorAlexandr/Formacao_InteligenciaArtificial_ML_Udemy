{
  "nbformat": 4,
  "nbformat_minor": 0,
  "metadata": {
    "colab": {
      "provenance": [],
      "gpuType": "T4"
    },
    "kernelspec": {
      "name": "python3",
      "display_name": "Python 3"
    },
    "language_info": {
      "name": "python"
    },
    "accelerator": "GPU",
    "gpuClass": "standard"
  },
  "cells": [
    {
      "cell_type": "code",
      "source": [
        "import numpy as np\n",
        "import matplotlib.pyplot as plt\n",
        "import pandas as pd\n",
        "from keras.models import Sequential\n",
        "from keras.layers import Dense, Dropout, LSTM\n",
        "from sklearn.preprocessing import MinMaxScaler\n",
        "from keras.callbacks import EarlyStopping"
      ],
      "metadata": {
        "id": "gx3ZV31CWLjA"
      },
      "execution_count": 3,
      "outputs": []
    },
    {
      "cell_type": "code",
      "source": [
        "dataset_train = pd.read_csv('Google_Stock_Price_Train.csv')\n",
        "dataset_train"
      ],
      "metadata": {
        "colab": {
          "base_uri": "https://localhost:8080/",
          "height": 423
        },
        "id": "XfaARwD8WiHA",
        "outputId": "7edd6e61-ff13-47ff-e900-81921ea35427"
      },
      "execution_count": 5,
      "outputs": [
        {
          "output_type": "execute_result",
          "data": {
            "text/plain": [
              "            Date    Open    High     Low   Close      Volume\n",
              "0       1/3/2012  325.25  332.83  324.97  663.59   7,380,500\n",
              "1       1/4/2012  331.27  333.87  329.08  666.45   5,749,400\n",
              "2       1/5/2012  329.83  330.75  326.89  657.21   6,590,300\n",
              "3       1/6/2012  328.34  328.77  323.68  648.24   5,405,900\n",
              "4       1/9/2012  322.04  322.29  309.46  620.76  11,688,800\n",
              "...          ...     ...     ...     ...     ...         ...\n",
              "1253  12/23/2016  790.90  792.74  787.28  789.91     623,400\n",
              "1254  12/27/2016  790.68  797.86  787.66  791.55     789,100\n",
              "1255  12/28/2016  793.70  794.23  783.20  785.05   1,153,800\n",
              "1256  12/29/2016  783.33  785.93  778.92  782.79     744,300\n",
              "1257  12/30/2016  782.75  782.78  770.41  771.82   1,770,000\n",
              "\n",
              "[1258 rows x 6 columns]"
            ],
            "text/html": [
              "\n",
              "  <div id=\"df-e3b5095d-e8ec-456e-897c-c3d3dd17d9d1\">\n",
              "    <div class=\"colab-df-container\">\n",
              "      <div>\n",
              "<style scoped>\n",
              "    .dataframe tbody tr th:only-of-type {\n",
              "        vertical-align: middle;\n",
              "    }\n",
              "\n",
              "    .dataframe tbody tr th {\n",
              "        vertical-align: top;\n",
              "    }\n",
              "\n",
              "    .dataframe thead th {\n",
              "        text-align: right;\n",
              "    }\n",
              "</style>\n",
              "<table border=\"1\" class=\"dataframe\">\n",
              "  <thead>\n",
              "    <tr style=\"text-align: right;\">\n",
              "      <th></th>\n",
              "      <th>Date</th>\n",
              "      <th>Open</th>\n",
              "      <th>High</th>\n",
              "      <th>Low</th>\n",
              "      <th>Close</th>\n",
              "      <th>Volume</th>\n",
              "    </tr>\n",
              "  </thead>\n",
              "  <tbody>\n",
              "    <tr>\n",
              "      <th>0</th>\n",
              "      <td>1/3/2012</td>\n",
              "      <td>325.25</td>\n",
              "      <td>332.83</td>\n",
              "      <td>324.97</td>\n",
              "      <td>663.59</td>\n",
              "      <td>7,380,500</td>\n",
              "    </tr>\n",
              "    <tr>\n",
              "      <th>1</th>\n",
              "      <td>1/4/2012</td>\n",
              "      <td>331.27</td>\n",
              "      <td>333.87</td>\n",
              "      <td>329.08</td>\n",
              "      <td>666.45</td>\n",
              "      <td>5,749,400</td>\n",
              "    </tr>\n",
              "    <tr>\n",
              "      <th>2</th>\n",
              "      <td>1/5/2012</td>\n",
              "      <td>329.83</td>\n",
              "      <td>330.75</td>\n",
              "      <td>326.89</td>\n",
              "      <td>657.21</td>\n",
              "      <td>6,590,300</td>\n",
              "    </tr>\n",
              "    <tr>\n",
              "      <th>3</th>\n",
              "      <td>1/6/2012</td>\n",
              "      <td>328.34</td>\n",
              "      <td>328.77</td>\n",
              "      <td>323.68</td>\n",
              "      <td>648.24</td>\n",
              "      <td>5,405,900</td>\n",
              "    </tr>\n",
              "    <tr>\n",
              "      <th>4</th>\n",
              "      <td>1/9/2012</td>\n",
              "      <td>322.04</td>\n",
              "      <td>322.29</td>\n",
              "      <td>309.46</td>\n",
              "      <td>620.76</td>\n",
              "      <td>11,688,800</td>\n",
              "    </tr>\n",
              "    <tr>\n",
              "      <th>...</th>\n",
              "      <td>...</td>\n",
              "      <td>...</td>\n",
              "      <td>...</td>\n",
              "      <td>...</td>\n",
              "      <td>...</td>\n",
              "      <td>...</td>\n",
              "    </tr>\n",
              "    <tr>\n",
              "      <th>1253</th>\n",
              "      <td>12/23/2016</td>\n",
              "      <td>790.90</td>\n",
              "      <td>792.74</td>\n",
              "      <td>787.28</td>\n",
              "      <td>789.91</td>\n",
              "      <td>623,400</td>\n",
              "    </tr>\n",
              "    <tr>\n",
              "      <th>1254</th>\n",
              "      <td>12/27/2016</td>\n",
              "      <td>790.68</td>\n",
              "      <td>797.86</td>\n",
              "      <td>787.66</td>\n",
              "      <td>791.55</td>\n",
              "      <td>789,100</td>\n",
              "    </tr>\n",
              "    <tr>\n",
              "      <th>1255</th>\n",
              "      <td>12/28/2016</td>\n",
              "      <td>793.70</td>\n",
              "      <td>794.23</td>\n",
              "      <td>783.20</td>\n",
              "      <td>785.05</td>\n",
              "      <td>1,153,800</td>\n",
              "    </tr>\n",
              "    <tr>\n",
              "      <th>1256</th>\n",
              "      <td>12/29/2016</td>\n",
              "      <td>783.33</td>\n",
              "      <td>785.93</td>\n",
              "      <td>778.92</td>\n",
              "      <td>782.79</td>\n",
              "      <td>744,300</td>\n",
              "    </tr>\n",
              "    <tr>\n",
              "      <th>1257</th>\n",
              "      <td>12/30/2016</td>\n",
              "      <td>782.75</td>\n",
              "      <td>782.78</td>\n",
              "      <td>770.41</td>\n",
              "      <td>771.82</td>\n",
              "      <td>1,770,000</td>\n",
              "    </tr>\n",
              "  </tbody>\n",
              "</table>\n",
              "<p>1258 rows × 6 columns</p>\n",
              "</div>\n",
              "      <button class=\"colab-df-convert\" onclick=\"convertToInteractive('df-e3b5095d-e8ec-456e-897c-c3d3dd17d9d1')\"\n",
              "              title=\"Convert this dataframe to an interactive table.\"\n",
              "              style=\"display:none;\">\n",
              "        \n",
              "  <svg xmlns=\"http://www.w3.org/2000/svg\" height=\"24px\"viewBox=\"0 0 24 24\"\n",
              "       width=\"24px\">\n",
              "    <path d=\"M0 0h24v24H0V0z\" fill=\"none\"/>\n",
              "    <path d=\"M18.56 5.44l.94 2.06.94-2.06 2.06-.94-2.06-.94-.94-2.06-.94 2.06-2.06.94zm-11 1L8.5 8.5l.94-2.06 2.06-.94-2.06-.94L8.5 2.5l-.94 2.06-2.06.94zm10 10l.94 2.06.94-2.06 2.06-.94-2.06-.94-.94-2.06-.94 2.06-2.06.94z\"/><path d=\"M17.41 7.96l-1.37-1.37c-.4-.4-.92-.59-1.43-.59-.52 0-1.04.2-1.43.59L10.3 9.45l-7.72 7.72c-.78.78-.78 2.05 0 2.83L4 21.41c.39.39.9.59 1.41.59.51 0 1.02-.2 1.41-.59l7.78-7.78 2.81-2.81c.8-.78.8-2.07 0-2.86zM5.41 20L4 18.59l7.72-7.72 1.47 1.35L5.41 20z\"/>\n",
              "  </svg>\n",
              "      </button>\n",
              "      \n",
              "  <style>\n",
              "    .colab-df-container {\n",
              "      display:flex;\n",
              "      flex-wrap:wrap;\n",
              "      gap: 12px;\n",
              "    }\n",
              "\n",
              "    .colab-df-convert {\n",
              "      background-color: #E8F0FE;\n",
              "      border: none;\n",
              "      border-radius: 50%;\n",
              "      cursor: pointer;\n",
              "      display: none;\n",
              "      fill: #1967D2;\n",
              "      height: 32px;\n",
              "      padding: 0 0 0 0;\n",
              "      width: 32px;\n",
              "    }\n",
              "\n",
              "    .colab-df-convert:hover {\n",
              "      background-color: #E2EBFA;\n",
              "      box-shadow: 0px 1px 2px rgba(60, 64, 67, 0.3), 0px 1px 3px 1px rgba(60, 64, 67, 0.15);\n",
              "      fill: #174EA6;\n",
              "    }\n",
              "\n",
              "    [theme=dark] .colab-df-convert {\n",
              "      background-color: #3B4455;\n",
              "      fill: #D2E3FC;\n",
              "    }\n",
              "\n",
              "    [theme=dark] .colab-df-convert:hover {\n",
              "      background-color: #434B5C;\n",
              "      box-shadow: 0px 1px 3px 1px rgba(0, 0, 0, 0.15);\n",
              "      filter: drop-shadow(0px 1px 2px rgba(0, 0, 0, 0.3));\n",
              "      fill: #FFFFFF;\n",
              "    }\n",
              "  </style>\n",
              "\n",
              "      <script>\n",
              "        const buttonEl =\n",
              "          document.querySelector('#df-e3b5095d-e8ec-456e-897c-c3d3dd17d9d1 button.colab-df-convert');\n",
              "        buttonEl.style.display =\n",
              "          google.colab.kernel.accessAllowed ? 'block' : 'none';\n",
              "\n",
              "        async function convertToInteractive(key) {\n",
              "          const element = document.querySelector('#df-e3b5095d-e8ec-456e-897c-c3d3dd17d9d1');\n",
              "          const dataTable =\n",
              "            await google.colab.kernel.invokeFunction('convertToInteractive',\n",
              "                                                     [key], {});\n",
              "          if (!dataTable) return;\n",
              "\n",
              "          const docLinkHtml = 'Like what you see? Visit the ' +\n",
              "            '<a target=\"_blank\" href=https://colab.research.google.com/notebooks/data_table.ipynb>data table notebook</a>'\n",
              "            + ' to learn more about interactive tables.';\n",
              "          element.innerHTML = '';\n",
              "          dataTable['output_type'] = 'display_data';\n",
              "          await google.colab.output.renderOutput(dataTable, element);\n",
              "          const docLink = document.createElement('div');\n",
              "          docLink.innerHTML = docLinkHtml;\n",
              "          element.appendChild(docLink);\n",
              "        }\n",
              "      </script>\n",
              "    </div>\n",
              "  </div>\n",
              "  "
            ]
          },
          "metadata": {},
          "execution_count": 5
        }
      ]
    },
    {
      "cell_type": "code",
      "source": [
        "dataset_train.shape"
      ],
      "metadata": {
        "colab": {
          "base_uri": "https://localhost:8080/"
        },
        "id": "OleqLyzZWwlf",
        "outputId": "591f31e2-021f-46da-9681-fa50308fe462"
      },
      "execution_count": 6,
      "outputs": [
        {
          "output_type": "execute_result",
          "data": {
            "text/plain": [
              "(1258, 6)"
            ]
          },
          "metadata": {},
          "execution_count": 6
        }
      ]
    },
    {
      "cell_type": "code",
      "source": [
        "training_set = dataset_train.iloc[:,1:2].values\n",
        "training_set"
      ],
      "metadata": {
        "colab": {
          "base_uri": "https://localhost:8080/"
        },
        "id": "J_aLyBooW55v",
        "outputId": "f662db77-fd26-4449-bbe7-04a8bdc1af45"
      },
      "execution_count": 8,
      "outputs": [
        {
          "output_type": "execute_result",
          "data": {
            "text/plain": [
              "array([[325.25],\n",
              "       [331.27],\n",
              "       [329.83],\n",
              "       ...,\n",
              "       [793.7 ],\n",
              "       [783.33],\n",
              "       [782.75]])"
            ]
          },
          "metadata": {},
          "execution_count": 8
        }
      ]
    },
    {
      "cell_type": "code",
      "source": [
        "sc = MinMaxScaler(feature_range=(0,1))\n",
        "training_set_scaled = sc.fit_transform(training_set)\n",
        "training_set_scaled"
      ],
      "metadata": {
        "colab": {
          "base_uri": "https://localhost:8080/"
        },
        "id": "EYKy2SFyXKLm",
        "outputId": "64b27661-b8c9-4cde-c4e2-0d78bb630281"
      },
      "execution_count": 9,
      "outputs": [
        {
          "output_type": "execute_result",
          "data": {
            "text/plain": [
              "array([[0.08581368],\n",
              "       [0.09701243],\n",
              "       [0.09433366],\n",
              "       ...,\n",
              "       [0.95725128],\n",
              "       [0.93796041],\n",
              "       [0.93688146]])"
            ]
          },
          "metadata": {},
          "execution_count": 9
        }
      ]
    },
    {
      "cell_type": "code",
      "source": [
        "X_train = []\n",
        "y_train = []\n",
        "for i in range(60, 1258):\n",
        "  X_train.append(training_set_scaled[i-60:i,0])\n",
        "  y_train.append(training_set_scaled[i,0])\n",
        "X_train, y_train = np.array(X_train), np.array(y_train)"
      ],
      "metadata": {
        "id": "TKQ5K6G-Xlaw"
      },
      "execution_count": 12,
      "outputs": []
    },
    {
      "cell_type": "code",
      "source": [
        "print(X_train)"
      ],
      "metadata": {
        "colab": {
          "base_uri": "https://localhost:8080/"
        },
        "id": "PwELSdnGYZdp",
        "outputId": "aad1a0ec-c184-4701-ec6d-a4a4b27f47c6"
      },
      "execution_count": 13,
      "outputs": [
        {
          "output_type": "stream",
          "name": "stdout",
          "text": [
            "[[0.08581368 0.09701243 0.09433366 ... 0.07846566 0.08034452 0.08497656]\n",
            " [0.09701243 0.09433366 0.09156187 ... 0.08034452 0.08497656 0.08627874]\n",
            " [0.09433366 0.09156187 0.07984225 ... 0.08497656 0.08627874 0.08471612]\n",
            " ...\n",
            " [0.92106928 0.92438053 0.93048218 ... 0.95475854 0.95204256 0.95163331]\n",
            " [0.92438053 0.93048218 0.9299055  ... 0.95204256 0.95163331 0.95725128]\n",
            " [0.93048218 0.9299055  0.93113327 ... 0.95163331 0.95725128 0.93796041]]\n"
          ]
        }
      ]
    },
    {
      "cell_type": "code",
      "source": [
        "X_train.shape"
      ],
      "metadata": {
        "colab": {
          "base_uri": "https://localhost:8080/"
        },
        "id": "HsVhM_X6YnAm",
        "outputId": "fbb4901d-4581-4571-b586-cd28dbe81ca7"
      },
      "execution_count": 14,
      "outputs": [
        {
          "output_type": "execute_result",
          "data": {
            "text/plain": [
              "(1198, 60)"
            ]
          },
          "metadata": {},
          "execution_count": 14
        }
      ]
    },
    {
      "cell_type": "code",
      "source": [
        "X_train = np.reshape(X_train, (X_train.shape[0], X_train.shape[1], 1))"
      ],
      "metadata": {
        "id": "vvfLUIBBYxYF"
      },
      "execution_count": 15,
      "outputs": []
    },
    {
      "cell_type": "code",
      "source": [
        "X_train.shape"
      ],
      "metadata": {
        "colab": {
          "base_uri": "https://localhost:8080/"
        },
        "id": "9HToHKTAZaWA",
        "outputId": "07755690-e009-442f-e70d-2d804ebc4423"
      },
      "execution_count": 17,
      "outputs": [
        {
          "output_type": "execute_result",
          "data": {
            "text/plain": [
              "(1198, 60, 1)"
            ]
          },
          "metadata": {},
          "execution_count": 17
        }
      ]
    },
    {
      "cell_type": "code",
      "source": [
        "modelo = Sequential()\n",
        "modelo.add(LSTM(units=50, return_sequences = True, input_shape = (X_train.shape[1],1)))\n",
        "modelo.add(Dropout(0.2))\n",
        "modelo.add(LSTM(units=50, return_sequences = True))\n",
        "modelo.add(Dropout(0.2))\n",
        "modelo.add(LSTM(units=50, return_sequences = True))\n",
        "modelo.add(Dropout(0.2))\n",
        "modelo.add(LSTM(units=50))\n",
        "modelo.add(Dropout(0.2))\n",
        "modelo.add(Dense(units=1))"
      ],
      "metadata": {
        "id": "d-iBpymuZcUw"
      },
      "execution_count": 19,
      "outputs": []
    },
    {
      "cell_type": "code",
      "source": [
        "modelo.compile(optimizer=\"adam\", loss='mean_squared_error')\n",
        "es = EarlyStopping(monitor='loss', mode='min', verbose=1, patience=30)\n",
        "modelo.fit(X_train, y_train, epochs=500, batch_size=32, callbacks=[es])"
      ],
      "metadata": {
        "colab": {
          "base_uri": "https://localhost:8080/"
        },
        "id": "lY3yUJModnrA",
        "outputId": "5dccbc21-4828-4fff-9fd9-63dc37045f99"
      },
      "execution_count": 20,
      "outputs": [
        {
          "output_type": "stream",
          "name": "stdout",
          "text": [
            "Epoch 1/500\n",
            "38/38 [==============================] - 13s 17ms/step - loss: 0.0462\n",
            "Epoch 2/500\n",
            "38/38 [==============================] - 1s 18ms/step - loss: 0.0061\n",
            "Epoch 3/500\n",
            "38/38 [==============================] - 1s 18ms/step - loss: 0.0053\n",
            "Epoch 4/500\n",
            "38/38 [==============================] - 0s 13ms/step - loss: 0.0061\n",
            "Epoch 5/500\n",
            "38/38 [==============================] - 0s 13ms/step - loss: 0.0052\n",
            "Epoch 6/500\n",
            "38/38 [==============================] - 0s 13ms/step - loss: 0.0049\n",
            "Epoch 7/500\n",
            "38/38 [==============================] - 0s 12ms/step - loss: 0.0047\n",
            "Epoch 8/500\n",
            "38/38 [==============================] - 0s 13ms/step - loss: 0.0048\n",
            "Epoch 9/500\n",
            "38/38 [==============================] - 0s 12ms/step - loss: 0.0040\n",
            "Epoch 10/500\n",
            "38/38 [==============================] - 0s 13ms/step - loss: 0.0039\n",
            "Epoch 11/500\n",
            "38/38 [==============================] - 0s 13ms/step - loss: 0.0042\n",
            "Epoch 12/500\n",
            "38/38 [==============================] - 0s 13ms/step - loss: 0.0037\n",
            "Epoch 13/500\n",
            "38/38 [==============================] - 0s 13ms/step - loss: 0.0042\n",
            "Epoch 14/500\n",
            "38/38 [==============================] - 0s 13ms/step - loss: 0.0050\n",
            "Epoch 15/500\n",
            "38/38 [==============================] - 0s 13ms/step - loss: 0.0045\n",
            "Epoch 16/500\n",
            "38/38 [==============================] - 0s 13ms/step - loss: 0.0035\n",
            "Epoch 17/500\n",
            "38/38 [==============================] - 0s 13ms/step - loss: 0.0039\n",
            "Epoch 18/500\n",
            "38/38 [==============================] - 0s 12ms/step - loss: 0.0036\n",
            "Epoch 19/500\n",
            "38/38 [==============================] - 0s 12ms/step - loss: 0.0032\n",
            "Epoch 20/500\n",
            "38/38 [==============================] - 0s 12ms/step - loss: 0.0037\n",
            "Epoch 21/500\n",
            "38/38 [==============================] - 0s 12ms/step - loss: 0.0033\n",
            "Epoch 22/500\n",
            "38/38 [==============================] - 0s 13ms/step - loss: 0.0038\n",
            "Epoch 23/500\n",
            "38/38 [==============================] - 0s 12ms/step - loss: 0.0036\n",
            "Epoch 24/500\n",
            "38/38 [==============================] - 1s 16ms/step - loss: 0.0035\n",
            "Epoch 25/500\n",
            "38/38 [==============================] - 1s 18ms/step - loss: 0.0035\n",
            "Epoch 26/500\n",
            "38/38 [==============================] - 1s 17ms/step - loss: 0.0041\n",
            "Epoch 27/500\n",
            "38/38 [==============================] - 0s 12ms/step - loss: 0.0032\n",
            "Epoch 28/500\n",
            "38/38 [==============================] - 0s 12ms/step - loss: 0.0031\n",
            "Epoch 29/500\n",
            "38/38 [==============================] - 0s 12ms/step - loss: 0.0032\n",
            "Epoch 30/500\n",
            "38/38 [==============================] - 0s 13ms/step - loss: 0.0031\n",
            "Epoch 31/500\n",
            "38/38 [==============================] - 0s 13ms/step - loss: 0.0033\n",
            "Epoch 32/500\n",
            "38/38 [==============================] - 0s 13ms/step - loss: 0.0029\n",
            "Epoch 33/500\n",
            "38/38 [==============================] - 0s 12ms/step - loss: 0.0028\n",
            "Epoch 34/500\n",
            "38/38 [==============================] - 0s 13ms/step - loss: 0.0028\n",
            "Epoch 35/500\n",
            "38/38 [==============================] - 0s 12ms/step - loss: 0.0027\n",
            "Epoch 36/500\n",
            "38/38 [==============================] - 0s 13ms/step - loss: 0.0028\n",
            "Epoch 37/500\n",
            "38/38 [==============================] - 0s 12ms/step - loss: 0.0026\n",
            "Epoch 38/500\n",
            "38/38 [==============================] - 0s 13ms/step - loss: 0.0027\n",
            "Epoch 39/500\n",
            "38/38 [==============================] - 0s 12ms/step - loss: 0.0025\n",
            "Epoch 40/500\n",
            "38/38 [==============================] - 0s 13ms/step - loss: 0.0029\n",
            "Epoch 41/500\n",
            "38/38 [==============================] - 0s 12ms/step - loss: 0.0027\n",
            "Epoch 42/500\n",
            "38/38 [==============================] - 0s 12ms/step - loss: 0.0027\n",
            "Epoch 43/500\n",
            "38/38 [==============================] - 0s 13ms/step - loss: 0.0027\n",
            "Epoch 44/500\n",
            "38/38 [==============================] - 0s 13ms/step - loss: 0.0024\n",
            "Epoch 45/500\n",
            "38/38 [==============================] - 0s 13ms/step - loss: 0.0024\n",
            "Epoch 46/500\n",
            "38/38 [==============================] - 0s 12ms/step - loss: 0.0024\n",
            "Epoch 47/500\n",
            "38/38 [==============================] - 1s 15ms/step - loss: 0.0026\n",
            "Epoch 48/500\n",
            "38/38 [==============================] - 1s 18ms/step - loss: 0.0024\n",
            "Epoch 49/500\n",
            "38/38 [==============================] - 1s 16ms/step - loss: 0.0025\n",
            "Epoch 50/500\n",
            "38/38 [==============================] - 0s 13ms/step - loss: 0.0026\n",
            "Epoch 51/500\n",
            "38/38 [==============================] - 0s 13ms/step - loss: 0.0024\n",
            "Epoch 52/500\n",
            "38/38 [==============================] - 0s 13ms/step - loss: 0.0022\n",
            "Epoch 53/500\n",
            "38/38 [==============================] - 0s 13ms/step - loss: 0.0023\n",
            "Epoch 54/500\n",
            "38/38 [==============================] - 0s 13ms/step - loss: 0.0023\n",
            "Epoch 55/500\n",
            "38/38 [==============================] - 0s 12ms/step - loss: 0.0022\n",
            "Epoch 56/500\n",
            "38/38 [==============================] - 0s 13ms/step - loss: 0.0021\n",
            "Epoch 57/500\n",
            "38/38 [==============================] - 0s 12ms/step - loss: 0.0022\n",
            "Epoch 58/500\n",
            "38/38 [==============================] - 1s 14ms/step - loss: 0.0021\n",
            "Epoch 59/500\n",
            "38/38 [==============================] - 0s 13ms/step - loss: 0.0021\n",
            "Epoch 60/500\n",
            "38/38 [==============================] - 0s 13ms/step - loss: 0.0020\n",
            "Epoch 61/500\n",
            "38/38 [==============================] - 0s 13ms/step - loss: 0.0020\n",
            "Epoch 62/500\n",
            "38/38 [==============================] - 0s 13ms/step - loss: 0.0022\n",
            "Epoch 63/500\n",
            "38/38 [==============================] - 0s 13ms/step - loss: 0.0020\n",
            "Epoch 64/500\n",
            "38/38 [==============================] - 0s 12ms/step - loss: 0.0019\n",
            "Epoch 65/500\n",
            "38/38 [==============================] - 1s 13ms/step - loss: 0.0020\n",
            "Epoch 66/500\n",
            "38/38 [==============================] - 0s 12ms/step - loss: 0.0020\n",
            "Epoch 67/500\n",
            "38/38 [==============================] - 0s 13ms/step - loss: 0.0020\n",
            "Epoch 68/500\n",
            "38/38 [==============================] - 0s 13ms/step - loss: 0.0020\n",
            "Epoch 69/500\n",
            "38/38 [==============================] - 0s 13ms/step - loss: 0.0017\n",
            "Epoch 70/500\n",
            "38/38 [==============================] - 1s 17ms/step - loss: 0.0020\n",
            "Epoch 71/500\n",
            "38/38 [==============================] - 1s 17ms/step - loss: 0.0020\n",
            "Epoch 72/500\n",
            "38/38 [==============================] - 1s 16ms/step - loss: 0.0019\n",
            "Epoch 73/500\n",
            "38/38 [==============================] - 0s 13ms/step - loss: 0.0020\n",
            "Epoch 74/500\n",
            "38/38 [==============================] - 0s 13ms/step - loss: 0.0018\n",
            "Epoch 75/500\n",
            "38/38 [==============================] - 0s 13ms/step - loss: 0.0017\n",
            "Epoch 76/500\n",
            "38/38 [==============================] - 0s 13ms/step - loss: 0.0017\n",
            "Epoch 77/500\n",
            "38/38 [==============================] - 0s 12ms/step - loss: 0.0018\n",
            "Epoch 78/500\n",
            "38/38 [==============================] - 0s 13ms/step - loss: 0.0016\n",
            "Epoch 79/500\n",
            "38/38 [==============================] - 0s 13ms/step - loss: 0.0018\n",
            "Epoch 80/500\n",
            "38/38 [==============================] - 1s 13ms/step - loss: 0.0016\n",
            "Epoch 81/500\n",
            "38/38 [==============================] - 0s 13ms/step - loss: 0.0019\n",
            "Epoch 82/500\n",
            "38/38 [==============================] - 0s 12ms/step - loss: 0.0016\n",
            "Epoch 83/500\n",
            "38/38 [==============================] - 0s 13ms/step - loss: 0.0016\n",
            "Epoch 84/500\n",
            "38/38 [==============================] - 1s 14ms/step - loss: 0.0016\n",
            "Epoch 85/500\n",
            "38/38 [==============================] - 0s 13ms/step - loss: 0.0018\n",
            "Epoch 86/500\n",
            "38/38 [==============================] - 1s 14ms/step - loss: 0.0019\n",
            "Epoch 87/500\n",
            "38/38 [==============================] - 1s 13ms/step - loss: 0.0014\n",
            "Epoch 88/500\n",
            "38/38 [==============================] - 0s 13ms/step - loss: 0.0014\n",
            "Epoch 89/500\n",
            "38/38 [==============================] - 0s 13ms/step - loss: 0.0016\n",
            "Epoch 90/500\n",
            "38/38 [==============================] - 1s 13ms/step - loss: 0.0017\n",
            "Epoch 91/500\n",
            "38/38 [==============================] - 1s 13ms/step - loss: 0.0015\n",
            "Epoch 92/500\n",
            "38/38 [==============================] - 1s 16ms/step - loss: 0.0017\n",
            "Epoch 93/500\n",
            "38/38 [==============================] - 1s 17ms/step - loss: 0.0016\n",
            "Epoch 94/500\n",
            "38/38 [==============================] - 1s 17ms/step - loss: 0.0015\n",
            "Epoch 95/500\n",
            "38/38 [==============================] - 0s 13ms/step - loss: 0.0015\n",
            "Epoch 96/500\n",
            "38/38 [==============================] - 0s 13ms/step - loss: 0.0017\n",
            "Epoch 97/500\n",
            "38/38 [==============================] - 1s 13ms/step - loss: 0.0016\n",
            "Epoch 98/500\n",
            "38/38 [==============================] - 0s 13ms/step - loss: 0.0015\n",
            "Epoch 99/500\n",
            "38/38 [==============================] - 0s 13ms/step - loss: 0.0017\n",
            "Epoch 100/500\n",
            "38/38 [==============================] - 0s 13ms/step - loss: 0.0016\n",
            "Epoch 101/500\n",
            "38/38 [==============================] - 0s 13ms/step - loss: 0.0015\n",
            "Epoch 102/500\n",
            "38/38 [==============================] - 0s 13ms/step - loss: 0.0015\n",
            "Epoch 103/500\n",
            "38/38 [==============================] - 0s 12ms/step - loss: 0.0015\n",
            "Epoch 104/500\n",
            "38/38 [==============================] - 1s 13ms/step - loss: 0.0015\n",
            "Epoch 105/500\n",
            "38/38 [==============================] - 1s 14ms/step - loss: 0.0014\n",
            "Epoch 106/500\n",
            "38/38 [==============================] - 1s 14ms/step - loss: 0.0015\n",
            "Epoch 107/500\n",
            "38/38 [==============================] - 0s 13ms/step - loss: 0.0012\n",
            "Epoch 108/500\n",
            "38/38 [==============================] - 0s 13ms/step - loss: 0.0012\n",
            "Epoch 109/500\n",
            "38/38 [==============================] - 0s 13ms/step - loss: 0.0016\n",
            "Epoch 110/500\n",
            "38/38 [==============================] - 0s 13ms/step - loss: 0.0013\n",
            "Epoch 111/500\n",
            "38/38 [==============================] - 0s 13ms/step - loss: 0.0013\n",
            "Epoch 112/500\n",
            "38/38 [==============================] - 0s 13ms/step - loss: 0.0014\n",
            "Epoch 113/500\n",
            "38/38 [==============================] - 0s 13ms/step - loss: 0.0013\n",
            "Epoch 114/500\n",
            "38/38 [==============================] - 0s 13ms/step - loss: 0.0015\n",
            "Epoch 115/500\n",
            "38/38 [==============================] - 1s 17ms/step - loss: 0.0012\n",
            "Epoch 116/500\n",
            "38/38 [==============================] - 1s 18ms/step - loss: 0.0013\n",
            "Epoch 117/500\n",
            "38/38 [==============================] - 1s 14ms/step - loss: 0.0012\n",
            "Epoch 118/500\n",
            "38/38 [==============================] - 1s 13ms/step - loss: 0.0012\n",
            "Epoch 119/500\n",
            "38/38 [==============================] - 0s 13ms/step - loss: 0.0014\n",
            "Epoch 120/500\n",
            "38/38 [==============================] - 0s 13ms/step - loss: 0.0014\n",
            "Epoch 121/500\n",
            "38/38 [==============================] - 0s 13ms/step - loss: 0.0014\n",
            "Epoch 122/500\n",
            "38/38 [==============================] - 0s 13ms/step - loss: 0.0014\n",
            "Epoch 123/500\n",
            "38/38 [==============================] - 0s 13ms/step - loss: 0.0013\n",
            "Epoch 124/500\n",
            "38/38 [==============================] - 0s 13ms/step - loss: 0.0012\n",
            "Epoch 125/500\n",
            "38/38 [==============================] - 0s 13ms/step - loss: 0.0013\n",
            "Epoch 126/500\n",
            "38/38 [==============================] - 0s 13ms/step - loss: 0.0012\n",
            "Epoch 127/500\n",
            "38/38 [==============================] - 0s 13ms/step - loss: 0.0013\n",
            "Epoch 128/500\n",
            "38/38 [==============================] - 0s 13ms/step - loss: 0.0013\n",
            "Epoch 129/500\n",
            "38/38 [==============================] - 0s 13ms/step - loss: 0.0013\n",
            "Epoch 130/500\n",
            "38/38 [==============================] - 0s 13ms/step - loss: 0.0012\n",
            "Epoch 131/500\n",
            "38/38 [==============================] - 0s 13ms/step - loss: 0.0013\n",
            "Epoch 132/500\n",
            "38/38 [==============================] - 0s 13ms/step - loss: 0.0014\n",
            "Epoch 133/500\n",
            "38/38 [==============================] - 1s 13ms/step - loss: 0.0012\n",
            "Epoch 134/500\n",
            "38/38 [==============================] - 0s 13ms/step - loss: 0.0013\n",
            "Epoch 135/500\n",
            "38/38 [==============================] - 0s 13ms/step - loss: 0.0010\n",
            "Epoch 136/500\n",
            "38/38 [==============================] - 0s 13ms/step - loss: 0.0012\n",
            "Epoch 137/500\n",
            "38/38 [==============================] - 1s 16ms/step - loss: 0.0012\n",
            "Epoch 138/500\n",
            "38/38 [==============================] - 1s 18ms/step - loss: 0.0012\n",
            "Epoch 139/500\n",
            "38/38 [==============================] - 1s 17ms/step - loss: 0.0012\n",
            "Epoch 140/500\n",
            "38/38 [==============================] - 0s 13ms/step - loss: 0.0013\n",
            "Epoch 141/500\n",
            "38/38 [==============================] - 1s 14ms/step - loss: 0.0013\n",
            "Epoch 142/500\n",
            "38/38 [==============================] - 0s 12ms/step - loss: 0.0012\n",
            "Epoch 143/500\n",
            "38/38 [==============================] - 1s 13ms/step - loss: 0.0012\n",
            "Epoch 144/500\n",
            "38/38 [==============================] - 0s 13ms/step - loss: 0.0013\n",
            "Epoch 145/500\n",
            "38/38 [==============================] - 0s 13ms/step - loss: 0.0012\n",
            "Epoch 146/500\n",
            "38/38 [==============================] - 1s 13ms/step - loss: 0.0011\n",
            "Epoch 147/500\n",
            "38/38 [==============================] - 0s 13ms/step - loss: 0.0011\n",
            "Epoch 148/500\n",
            "38/38 [==============================] - 0s 13ms/step - loss: 0.0011\n",
            "Epoch 149/500\n",
            "38/38 [==============================] - 1s 13ms/step - loss: 0.0011\n",
            "Epoch 150/500\n",
            "38/38 [==============================] - 0s 13ms/step - loss: 0.0012\n",
            "Epoch 151/500\n",
            "38/38 [==============================] - 0s 12ms/step - loss: 0.0011\n",
            "Epoch 152/500\n",
            "38/38 [==============================] - 0s 12ms/step - loss: 0.0012\n",
            "Epoch 153/500\n",
            "38/38 [==============================] - 0s 13ms/step - loss: 0.0012\n",
            "Epoch 154/500\n",
            "38/38 [==============================] - 0s 13ms/step - loss: 0.0011\n",
            "Epoch 155/500\n",
            "38/38 [==============================] - 0s 13ms/step - loss: 0.0011\n",
            "Epoch 156/500\n",
            "38/38 [==============================] - 0s 13ms/step - loss: 0.0011\n",
            "Epoch 157/500\n",
            "38/38 [==============================] - 0s 13ms/step - loss: 0.0010\n",
            "Epoch 158/500\n",
            "38/38 [==============================] - 0s 13ms/step - loss: 0.0012\n",
            "Epoch 159/500\n",
            "38/38 [==============================] - 1s 14ms/step - loss: 0.0010\n",
            "Epoch 160/500\n",
            "38/38 [==============================] - 1s 18ms/step - loss: 0.0011\n",
            "Epoch 161/500\n",
            "38/38 [==============================] - 1s 17ms/step - loss: 0.0011\n",
            "Epoch 162/500\n",
            "38/38 [==============================] - 1s 14ms/step - loss: 0.0011\n",
            "Epoch 163/500\n",
            "38/38 [==============================] - 0s 13ms/step - loss: 0.0012\n",
            "Epoch 164/500\n",
            "38/38 [==============================] - 0s 13ms/step - loss: 0.0010\n",
            "Epoch 165/500\n",
            "38/38 [==============================] - 0s 13ms/step - loss: 0.0011\n",
            "Epoch 166/500\n",
            "38/38 [==============================] - 0s 13ms/step - loss: 0.0012\n",
            "Epoch 167/500\n",
            "38/38 [==============================] - 0s 13ms/step - loss: 0.0010\n",
            "Epoch 168/500\n",
            "38/38 [==============================] - 1s 13ms/step - loss: 0.0011\n",
            "Epoch 169/500\n",
            "38/38 [==============================] - 0s 13ms/step - loss: 0.0012\n",
            "Epoch 170/500\n",
            "38/38 [==============================] - 0s 13ms/step - loss: 0.0011\n",
            "Epoch 171/500\n",
            "38/38 [==============================] - 1s 13ms/step - loss: 0.0010\n",
            "Epoch 172/500\n",
            "38/38 [==============================] - 0s 13ms/step - loss: 0.0010\n",
            "Epoch 173/500\n",
            "38/38 [==============================] - 1s 13ms/step - loss: 0.0011\n",
            "Epoch 174/500\n",
            "38/38 [==============================] - 0s 13ms/step - loss: 0.0011\n",
            "Epoch 175/500\n",
            "38/38 [==============================] - 0s 13ms/step - loss: 0.0011\n",
            "Epoch 176/500\n",
            "38/38 [==============================] - 0s 13ms/step - loss: 0.0010\n",
            "Epoch 177/500\n",
            "38/38 [==============================] - 1s 14ms/step - loss: 0.0011\n",
            "Epoch 178/500\n",
            "38/38 [==============================] - 1s 13ms/step - loss: 0.0011\n",
            "Epoch 179/500\n",
            "38/38 [==============================] - 1s 13ms/step - loss: 0.0012\n",
            "Epoch 180/500\n",
            "38/38 [==============================] - 0s 13ms/step - loss: 0.0010\n",
            "Epoch 181/500\n",
            "38/38 [==============================] - 0s 13ms/step - loss: 0.0011\n",
            "Epoch 182/500\n",
            "38/38 [==============================] - 1s 18ms/step - loss: 0.0011\n",
            "Epoch 183/500\n",
            "38/38 [==============================] - 1s 18ms/step - loss: 0.0010\n",
            "Epoch 184/500\n",
            "38/38 [==============================] - 1s 15ms/step - loss: 0.0010\n",
            "Epoch 185/500\n",
            "38/38 [==============================] - 1s 13ms/step - loss: 0.0011\n",
            "Epoch 186/500\n",
            "38/38 [==============================] - 1s 13ms/step - loss: 9.5921e-04\n",
            "Epoch 187/500\n",
            "38/38 [==============================] - 0s 13ms/step - loss: 9.7619e-04\n",
            "Epoch 188/500\n",
            "38/38 [==============================] - 0s 13ms/step - loss: 9.8461e-04\n",
            "Epoch 189/500\n",
            "38/38 [==============================] - 1s 13ms/step - loss: 9.7203e-04\n",
            "Epoch 190/500\n",
            "38/38 [==============================] - 0s 13ms/step - loss: 0.0011\n",
            "Epoch 191/500\n",
            "38/38 [==============================] - 0s 13ms/step - loss: 0.0011\n",
            "Epoch 192/500\n",
            "38/38 [==============================] - 0s 13ms/step - loss: 0.0011\n",
            "Epoch 193/500\n",
            "38/38 [==============================] - 0s 13ms/step - loss: 0.0011\n",
            "Epoch 194/500\n",
            "38/38 [==============================] - 0s 13ms/step - loss: 0.0010\n",
            "Epoch 195/500\n",
            "38/38 [==============================] - 0s 13ms/step - loss: 9.8627e-04\n",
            "Epoch 196/500\n",
            "38/38 [==============================] - 0s 13ms/step - loss: 0.0010\n",
            "Epoch 197/500\n",
            "38/38 [==============================] - 1s 13ms/step - loss: 0.0010\n",
            "Epoch 198/500\n",
            "38/38 [==============================] - 1s 19ms/step - loss: 0.0011\n",
            "Epoch 199/500\n",
            "38/38 [==============================] - 1s 19ms/step - loss: 8.9410e-04\n",
            "Epoch 200/500\n",
            "38/38 [==============================] - 1s 16ms/step - loss: 9.8668e-04\n",
            "Epoch 201/500\n",
            "38/38 [==============================] - 1s 13ms/step - loss: 0.0010\n",
            "Epoch 202/500\n",
            "38/38 [==============================] - 1s 13ms/step - loss: 0.0011\n",
            "Epoch 203/500\n",
            "38/38 [==============================] - 1s 17ms/step - loss: 9.3285e-04\n",
            "Epoch 204/500\n",
            "38/38 [==============================] - 1s 18ms/step - loss: 9.6352e-04\n",
            "Epoch 205/500\n",
            "38/38 [==============================] - 1s 16ms/step - loss: 9.4747e-04\n",
            "Epoch 206/500\n",
            "38/38 [==============================] - 1s 13ms/step - loss: 0.0010\n",
            "Epoch 207/500\n",
            "38/38 [==============================] - 1s 14ms/step - loss: 8.6969e-04\n",
            "Epoch 208/500\n",
            "38/38 [==============================] - 1s 13ms/step - loss: 0.0010\n",
            "Epoch 209/500\n",
            "38/38 [==============================] - 1s 14ms/step - loss: 0.0011\n",
            "Epoch 210/500\n",
            "38/38 [==============================] - 1s 14ms/step - loss: 0.0011\n",
            "Epoch 211/500\n",
            "38/38 [==============================] - 1s 13ms/step - loss: 0.0010\n",
            "Epoch 212/500\n",
            "38/38 [==============================] - 0s 13ms/step - loss: 0.0010\n",
            "Epoch 213/500\n",
            "38/38 [==============================] - 0s 13ms/step - loss: 9.7438e-04\n",
            "Epoch 214/500\n",
            "38/38 [==============================] - 0s 13ms/step - loss: 9.7868e-04\n",
            "Epoch 215/500\n",
            "38/38 [==============================] - 1s 14ms/step - loss: 9.8591e-04\n",
            "Epoch 216/500\n",
            "38/38 [==============================] - 1s 14ms/step - loss: 9.3658e-04\n",
            "Epoch 217/500\n",
            "38/38 [==============================] - 1s 13ms/step - loss: 8.8356e-04\n",
            "Epoch 218/500\n",
            "38/38 [==============================] - 1s 13ms/step - loss: 0.0011\n",
            "Epoch 219/500\n",
            "38/38 [==============================] - 1s 14ms/step - loss: 9.3193e-04\n",
            "Epoch 220/500\n",
            "38/38 [==============================] - 1s 13ms/step - loss: 0.0011\n",
            "Epoch 221/500\n",
            "38/38 [==============================] - 1s 13ms/step - loss: 0.0010\n",
            "Epoch 222/500\n",
            "38/38 [==============================] - 1s 14ms/step - loss: 9.9795e-04\n",
            "Epoch 223/500\n",
            "38/38 [==============================] - 1s 14ms/step - loss: 0.0012\n",
            "Epoch 224/500\n",
            "38/38 [==============================] - 1s 14ms/step - loss: 9.6395e-04\n",
            "Epoch 225/500\n",
            "38/38 [==============================] - 1s 20ms/step - loss: 0.0011\n",
            "Epoch 226/500\n",
            "38/38 [==============================] - 1s 18ms/step - loss: 9.6450e-04\n",
            "Epoch 227/500\n",
            "38/38 [==============================] - 1s 14ms/step - loss: 0.0010\n",
            "Epoch 228/500\n",
            "38/38 [==============================] - 1s 14ms/step - loss: 9.9620e-04\n",
            "Epoch 229/500\n",
            "38/38 [==============================] - 1s 13ms/step - loss: 0.0011\n",
            "Epoch 230/500\n",
            "38/38 [==============================] - 1s 14ms/step - loss: 0.0012\n",
            "Epoch 231/500\n",
            "38/38 [==============================] - 1s 14ms/step - loss: 8.8322e-04\n",
            "Epoch 232/500\n",
            "38/38 [==============================] - 1s 14ms/step - loss: 9.7829e-04\n",
            "Epoch 233/500\n",
            "38/38 [==============================] - 1s 14ms/step - loss: 9.2364e-04\n",
            "Epoch 234/500\n",
            "38/38 [==============================] - 1s 14ms/step - loss: 8.9100e-04\n",
            "Epoch 235/500\n",
            "38/38 [==============================] - 1s 13ms/step - loss: 9.2900e-04\n",
            "Epoch 236/500\n",
            "38/38 [==============================] - 1s 13ms/step - loss: 0.0011\n",
            "Epoch 237/500\n",
            "38/38 [==============================] - 0s 13ms/step - loss: 9.9343e-04\n",
            "Epoch 237: early stopping\n"
          ]
        },
        {
          "output_type": "execute_result",
          "data": {
            "text/plain": [
              "<keras.callbacks.History at 0x7f918207d7b0>"
            ]
          },
          "metadata": {},
          "execution_count": 20
        }
      ]
    },
    {
      "cell_type": "code",
      "source": [
        "dataset_test = pd.read_csv(\"Google_Stock_Price_Test.csv\")\n",
        "real_stock_price = dataset_test.iloc[:,1:2].values"
      ],
      "metadata": {
        "id": "d6PUiIaie0gQ"
      },
      "execution_count": 21,
      "outputs": []
    },
    {
      "cell_type": "code",
      "source": [
        "dataset_total = pd.concat((dataset_train['Open'], dataset_test['Open']), axis=0)"
      ],
      "metadata": {
        "id": "85EHwwzngjDM"
      },
      "execution_count": 22,
      "outputs": []
    },
    {
      "cell_type": "code",
      "source": [
        "inputs = dataset_total[len(dataset_total)-len(dataset_test) - 60:].values\n",
        "inputs"
      ],
      "metadata": {
        "colab": {
          "base_uri": "https://localhost:8080/"
        },
        "id": "jQugg0Zlg6G_",
        "outputId": "4a676096-9207-428b-844c-b28955076f60"
      },
      "execution_count": 24,
      "outputs": [
        {
          "output_type": "execute_result",
          "data": {
            "text/plain": [
              "array([779.  , 779.66, 777.71, 786.66, 783.76, 781.22, 781.65, 779.8 ,\n",
              "       787.85, 798.24, 803.3 , 795.  , 804.9 , 816.68, 806.34, 801.  ,\n",
              "       808.35, 795.47, 782.89, 778.2 , 767.25, 750.66, 774.5 , 783.4 ,\n",
              "       779.94, 791.17, 756.54, 755.6 , 746.97, 755.2 , 766.92, 771.37,\n",
              "       762.61, 772.63, 767.73, 764.26, 760.  , 771.53, 770.07, 757.44,\n",
              "       744.59, 757.71, 764.73, 761.  , 772.48, 780.  , 785.04, 793.9 ,\n",
              "       797.4 , 797.34, 800.4 , 790.22, 796.76, 795.84, 792.36, 790.9 ,\n",
              "       790.68, 793.7 , 783.33, 782.75, 778.81, 788.36, 786.08, 795.26,\n",
              "       806.4 , 807.86, 805.  , 807.14, 807.48, 807.08, 805.81, 805.12,\n",
              "       806.91, 807.25, 822.3 , 829.62, 837.81, 834.71, 814.66, 796.86])"
            ]
          },
          "metadata": {},
          "execution_count": 24
        }
      ]
    },
    {
      "cell_type": "code",
      "source": [
        "inputs = inputs.reshape(-1,1)\n",
        "inputs"
      ],
      "metadata": {
        "id": "kEZexiOXhJll"
      },
      "execution_count": null,
      "outputs": []
    },
    {
      "cell_type": "code",
      "source": [
        "inputs = sc.transform(inputs)\n",
        "X_test = []\n",
        "for i in range(60,80):\n",
        "  X_test.append(inputs[i-60:i,0])\n",
        "X_test = np.array(X_test)\n",
        "X_test = np.reshape(X_test, (X_test.shape[0], X_test.shape[1],1))\n",
        "predicted_stock_price = modelo.predict(X_test)\n",
        "predicted_stock_price = sc.inverse_transform(predicted_stock_price)"
      ],
      "metadata": {
        "colab": {
          "base_uri": "https://localhost:8080/"
        },
        "id": "1lh_CZ0ehjLO",
        "outputId": "405fc20d-177d-427d-cef4-af132fd0cfb1"
      },
      "execution_count": 26,
      "outputs": [
        {
          "output_type": "stream",
          "name": "stdout",
          "text": [
            "1/1 [==============================] - 1s 1s/step\n"
          ]
        }
      ]
    },
    {
      "cell_type": "code",
      "source": [
        "plt.plot(real_stock_price, color='red', label=\"Dados Reais de Ações do Google\")\n",
        "plt.plot(predicted_stock_price, color='blue', label=\"Dados Previstos de Ações do Google\")\n",
        "plt.title(\"Previsões de Ações do Google\")\n",
        "plt.xlabel(\"Tempo\")\n",
        "plt.ylabel(\"Preços de Ações do Google\")\n",
        "plt.legend()\n",
        "plt.show()"
      ],
      "metadata": {
        "colab": {
          "base_uri": "https://localhost:8080/",
          "height": 472
        },
        "id": "NxpEntjFjkdn",
        "outputId": "58e9e7a2-f4f7-4681-9453-113ff74e66bc"
      },
      "execution_count": 27,
      "outputs": [
        {
          "output_type": "display_data",
          "data": {
            "text/plain": [
              "<Figure size 640x480 with 1 Axes>"
            ],
            "image/png": "[encoded data removed]"
          },
          "metadata": {}
        }
      ]
    },
    {
      "cell_type": "code",
      "source": [],
      "metadata": {
        "id": "fHwaH4-DkO88"
      },
      "execution_count": null,
      "outputs": []
    }
  ]
}