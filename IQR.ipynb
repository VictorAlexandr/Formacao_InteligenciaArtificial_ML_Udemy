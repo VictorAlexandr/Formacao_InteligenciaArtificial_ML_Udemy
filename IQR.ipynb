{
  "nbformat": 4,
  "nbformat_minor": 0,
  "metadata": {
    "colab": {
      "provenance": []
    },
    "kernelspec": {
      "name": "python3",
      "display_name": "Python 3"
    },
    "language_info": {
      "name": "python"
    }
  },
  "cells": [
    {
      "cell_type": "code",
      "execution_count": 2,
      "metadata": {
        "id": "s2hL6UGUcZHQ"
      },
      "outputs": [],
      "source": [
        "import numpy as np"
      ]
    },
    {
      "cell_type": "code",
      "source": [
        "dataset = [-100,1,2,3,4,5,6,7,8,9,100]"
      ],
      "metadata": {
        "id": "5f8265T6d2uJ"
      },
      "execution_count": 9,
      "outputs": []
    },
    {
      "cell_type": "code",
      "source": [
        "quartil1 = np.percentile(dataset, 25)\n",
        "quartil3 = np.percentile(dataset, 75)\n",
        "iqr = quartil3 - quartil1\n",
        "limiteinferior = quartil1 - 1.5 * iqr\n",
        "limitesuperior = quartil3 + 1.5 * iqr\n",
        "outliers = []\n",
        "for value in dataset:\n",
        "  if value < limiteinferior or value > limitesuperior:\n",
        "    outliers.append(value)\n",
        "\n",
        "print(\"Anomalias: \", outliers)"
      ],
      "metadata": {
        "colab": {
          "base_uri": "https://localhost:8080/"
        },
        "id": "vVH4Vhwod8UI",
        "outputId": "dccdf056-b78e-4bd4-93eb-3f3818c1a54e"
      },
      "execution_count": 10,
      "outputs": [
        {
          "output_type": "stream",
          "name": "stdout",
          "text": [
            "Anomalias:  [-100, 100]\n"
          ]
        }
      ]
    },
    {
      "cell_type": "code",
      "source": [],
      "metadata": {
        "id": "WJpOu6bgetxX"
      },
      "execution_count": null,
      "outputs": []
    }
  ]
}