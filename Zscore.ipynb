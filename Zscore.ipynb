{
  "nbformat": 4,
  "nbformat_minor": 0,
  "metadata": {
    "colab": {
      "provenance": []
    },
    "kernelspec": {
      "name": "python3",
      "display_name": "Python 3"
    },
    "language_info": {
      "name": "python"
    }
  },
  "cells": [
    {
      "cell_type": "code",
      "execution_count": 1,
      "metadata": {
        "id": "EXi6YKnRaANw"
      },
      "outputs": [],
      "source": [
        "import numpy as np\n",
        "import scipy.stats as stats"
      ]
    },
    {
      "cell_type": "code",
      "source": [
        "data = np.array([30,29,30,31,100,29,28,30,300,31,32,33])"
      ],
      "metadata": {
        "id": "fsAR1KTbalRA"
      },
      "execution_count": 8,
      "outputs": []
    },
    {
      "cell_type": "code",
      "source": [
        "zscores = stats.zscore(data)\n",
        "print(zscores)"
      ],
      "metadata": {
        "colab": {
          "base_uri": "https://localhost:8080/"
        },
        "id": "TYszzJREaxqO",
        "outputId": "3552d993-481b-442f-a70e-647b5ed69976"
      },
      "execution_count": 9,
      "outputs": [
        {
          "output_type": "stream",
          "name": "stdout",
          "text": [
            "[-0.37966016 -0.39294273 -0.37966016 -0.36637759  0.55011982 -0.39294273\n",
            " -0.4062253  -0.37966016  3.20663406 -0.36637759 -0.35309502 -0.33981245]\n"
          ]
        }
      ]
    },
    {
      "cell_type": "code",
      "source": [
        "anomalia = data[np.abs(zscores)>3]\n",
        "print(f\"Anomlias Identificadas: {anomalia}\")"
      ],
      "metadata": {
        "colab": {
          "base_uri": "https://localhost:8080/"
        },
        "id": "RuCqzWisbGGG",
        "outputId": "f3f7e863-604c-4b65-aef4-830c16b22600"
      },
      "execution_count": 10,
      "outputs": [
        {
          "output_type": "stream",
          "name": "stdout",
          "text": [
            "Anomlias Identificadas: [300]\n"
          ]
        }
      ]
    },
    {
      "cell_type": "code",
      "source": [],
      "metadata": {
        "id": "u7Qr2c3RbfTI"
      },
      "execution_count": null,
      "outputs": []
    }
  ]
}