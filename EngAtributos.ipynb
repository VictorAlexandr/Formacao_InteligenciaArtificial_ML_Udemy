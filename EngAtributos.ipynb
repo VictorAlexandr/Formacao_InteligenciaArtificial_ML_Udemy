{
  "nbformat": 4,
  "nbformat_minor": 0,
  "metadata": {
    "colab": {
      "provenance": []
    },
    "kernelspec": {
      "name": "python3",
      "display_name": "Python 3"
    },
    "language_info": {
      "name": "python"
    }
  },
  "cells": [
    {
      "cell_type": "code",
      "execution_count": 1,
      "metadata": {
        "id": "gCcoKU_SW878"
      },
      "outputs": [],
      "source": [
        "import pandas as pd\n",
        "from sklearn.preprocessing import LabelEncoder, StandardScaler"
      ]
    },
    {
      "cell_type": "code",
      "source": [
        "dataset = pd.read_csv('credit_simple.csv', sep=';')\n",
        "dataset.shape"
      ],
      "metadata": {
        "colab": {
          "base_uri": "https://localhost:8080/"
        },
        "id": "8aFyqnN_XS88",
        "outputId": "ca9cfba6-c0be-458a-fe4b-a120bbc614d8"
      },
      "execution_count": 3,
      "outputs": [
        {
          "output_type": "execute_result",
          "data": {
            "text/plain": [
              "(1000, 8)"
            ]
          },
          "metadata": {},
          "execution_count": 3
        }
      ]
    },
    {
      "cell_type": "code",
      "source": [
        "dataset.head()"
      ],
      "metadata": {
        "colab": {
          "base_uri": "https://localhost:8080/",
          "height": 206
        },
        "id": "XcW26TISXnsZ",
        "outputId": "f4efbe31-f503-42f0-fbb1-b80f0661193f"
      },
      "execution_count": 6,
      "outputs": [
        {
          "output_type": "execute_result",
          "data": {
            "text/plain": [
              "   SALDO_ATUAL  RESIDENCIADESDE  IDADE OUTROSPLANOSPGTO        DATA  \\\n",
              "0       1169.0                4     67           nenhum  01/01/2019   \n",
              "1       5951.0                2     22           nenhum  01/01/2020   \n",
              "2       2096.0                3     49           nenhum  02/01/2020   \n",
              "3       7882.0                4     45           nenhum  02/01/2019   \n",
              "4       4870.0                4     53           nenhum  03/01/2018   \n",
              "\n",
              "          ESTADOCIVIL            PROPOSITO CLASSE  \n",
              "0  masculino solteiro             radio/tv    bom  \n",
              "1         fem div/cas             radio/tv   ruim  \n",
              "2  masculino solteiro             educação    bom  \n",
              "3  masculino solteiro  mobilia/equipamento    bom  \n",
              "4  masculino solteiro           carro novo   ruim  "
            ],
            "text/html": [
              "\n",
              "  <div id=\"df-40d8fd47-2243-46cb-a770-b8e79683fbc3\">\n",
              "    <div class=\"colab-df-container\">\n",
              "      <div>\n",
              "<style scoped>\n",
              "    .dataframe tbody tr th:only-of-type {\n",
              "        vertical-align: middle;\n",
              "    }\n",
              "\n",
              "    .dataframe tbody tr th {\n",
              "        vertical-align: top;\n",
              "    }\n",
              "\n",
              "    .dataframe thead th {\n",
              "        text-align: right;\n",
              "    }\n",
              "</style>\n",
              "<table border=\"1\" class=\"dataframe\">\n",
              "  <thead>\n",
              "    <tr style=\"text-align: right;\">\n",
              "      <th></th>\n",
              "      <th>SALDO_ATUAL</th>\n",
              "      <th>RESIDENCIADESDE</th>\n",
              "      <th>IDADE</th>\n",
              "      <th>OUTROSPLANOSPGTO</th>\n",
              "      <th>DATA</th>\n",
              "      <th>ESTADOCIVIL</th>\n",
              "      <th>PROPOSITO</th>\n",
              "      <th>CLASSE</th>\n",
              "    </tr>\n",
              "  </thead>\n",
              "  <tbody>\n",
              "    <tr>\n",
              "      <th>0</th>\n",
              "      <td>1169.0</td>\n",
              "      <td>4</td>\n",
              "      <td>67</td>\n",
              "      <td>nenhum</td>\n",
              "      <td>01/01/2019</td>\n",
              "      <td>masculino solteiro</td>\n",
              "      <td>radio/tv</td>\n",
              "      <td>bom</td>\n",
              "    </tr>\n",
              "    <tr>\n",
              "      <th>1</th>\n",
              "      <td>5951.0</td>\n",
              "      <td>2</td>\n",
              "      <td>22</td>\n",
              "      <td>nenhum</td>\n",
              "      <td>01/01/2020</td>\n",
              "      <td>fem div/cas</td>\n",
              "      <td>radio/tv</td>\n",
              "      <td>ruim</td>\n",
              "    </tr>\n",
              "    <tr>\n",
              "      <th>2</th>\n",
              "      <td>2096.0</td>\n",
              "      <td>3</td>\n",
              "      <td>49</td>\n",
              "      <td>nenhum</td>\n",
              "      <td>02/01/2020</td>\n",
              "      <td>masculino solteiro</td>\n",
              "      <td>educação</td>\n",
              "      <td>bom</td>\n",
              "    </tr>\n",
              "    <tr>\n",
              "      <th>3</th>\n",
              "      <td>7882.0</td>\n",
              "      <td>4</td>\n",
              "      <td>45</td>\n",
              "      <td>nenhum</td>\n",
              "      <td>02/01/2019</td>\n",
              "      <td>masculino solteiro</td>\n",
              "      <td>mobilia/equipamento</td>\n",
              "      <td>bom</td>\n",
              "    </tr>\n",
              "    <tr>\n",
              "      <th>4</th>\n",
              "      <td>4870.0</td>\n",
              "      <td>4</td>\n",
              "      <td>53</td>\n",
              "      <td>nenhum</td>\n",
              "      <td>03/01/2018</td>\n",
              "      <td>masculino solteiro</td>\n",
              "      <td>carro novo</td>\n",
              "      <td>ruim</td>\n",
              "    </tr>\n",
              "  </tbody>\n",
              "</table>\n",
              "</div>\n",
              "      <button class=\"colab-df-convert\" onclick=\"convertToInteractive('df-40d8fd47-2243-46cb-a770-b8e79683fbc3')\"\n",
              "              title=\"Convert this dataframe to an interactive table.\"\n",
              "              style=\"display:none;\">\n",
              "        \n",
              "  <svg xmlns=\"http://www.w3.org/2000/svg\" height=\"24px\"viewBox=\"0 0 24 24\"\n",
              "       width=\"24px\">\n",
              "    <path d=\"M0 0h24v24H0V0z\" fill=\"none\"/>\n",
              "    <path d=\"M18.56 5.44l.94 2.06.94-2.06 2.06-.94-2.06-.94-.94-2.06-.94 2.06-2.06.94zm-11 1L8.5 8.5l.94-2.06 2.06-.94-2.06-.94L8.5 2.5l-.94 2.06-2.06.94zm10 10l.94 2.06.94-2.06 2.06-.94-2.06-.94-.94-2.06-.94 2.06-2.06.94z\"/><path d=\"M17.41 7.96l-1.37-1.37c-.4-.4-.92-.59-1.43-.59-.52 0-1.04.2-1.43.59L10.3 9.45l-7.72 7.72c-.78.78-.78 2.05 0 2.83L4 21.41c.39.39.9.59 1.41.59.51 0 1.02-.2 1.41-.59l7.78-7.78 2.81-2.81c.8-.78.8-2.07 0-2.86zM5.41 20L4 18.59l7.72-7.72 1.47 1.35L5.41 20z\"/>\n",
              "  </svg>\n",
              "      </button>\n",
              "      \n",
              "  <style>\n",
              "    .colab-df-container {\n",
              "      display:flex;\n",
              "      flex-wrap:wrap;\n",
              "      gap: 12px;\n",
              "    }\n",
              "\n",
              "    .colab-df-convert {\n",
              "      background-color: #E8F0FE;\n",
              "      border: none;\n",
              "      border-radius: 50%;\n",
              "      cursor: pointer;\n",
              "      display: none;\n",
              "      fill: #1967D2;\n",
              "      height: 32px;\n",
              "      padding: 0 0 0 0;\n",
              "      width: 32px;\n",
              "    }\n",
              "\n",
              "    .colab-df-convert:hover {\n",
              "      background-color: #E2EBFA;\n",
              "      box-shadow: 0px 1px 2px rgba(60, 64, 67, 0.3), 0px 1px 3px 1px rgba(60, 64, 67, 0.15);\n",
              "      fill: #174EA6;\n",
              "    }\n",
              "\n",
              "    [theme=dark] .colab-df-convert {\n",
              "      background-color: #3B4455;\n",
              "      fill: #D2E3FC;\n",
              "    }\n",
              "\n",
              "    [theme=dark] .colab-df-convert:hover {\n",
              "      background-color: #434B5C;\n",
              "      box-shadow: 0px 1px 3px 1px rgba(0, 0, 0, 0.15);\n",
              "      filter: drop-shadow(0px 1px 2px rgba(0, 0, 0, 0.3));\n",
              "      fill: #FFFFFF;\n",
              "    }\n",
              "  </style>\n",
              "\n",
              "      <script>\n",
              "        const buttonEl =\n",
              "          document.querySelector('#df-40d8fd47-2243-46cb-a770-b8e79683fbc3 button.colab-df-convert');\n",
              "        buttonEl.style.display =\n",
              "          google.colab.kernel.accessAllowed ? 'block' : 'none';\n",
              "\n",
              "        async function convertToInteractive(key) {\n",
              "          const element = document.querySelector('#df-40d8fd47-2243-46cb-a770-b8e79683fbc3');\n",
              "          const dataTable =\n",
              "            await google.colab.kernel.invokeFunction('convertToInteractive',\n",
              "                                                     [key], {});\n",
              "          if (!dataTable) return;\n",
              "\n",
              "          const docLinkHtml = 'Like what you see? Visit the ' +\n",
              "            '<a target=\"_blank\" href=https://colab.research.google.com/notebooks/data_table.ipynb>data table notebook</a>'\n",
              "            + ' to learn more about interactive tables.';\n",
              "          element.innerHTML = '';\n",
              "          dataTable['output_type'] = 'display_data';\n",
              "          await google.colab.output.renderOutput(dataTable, element);\n",
              "          const docLink = document.createElement('div');\n",
              "          docLink.innerHTML = docLinkHtml;\n",
              "          element.appendChild(docLink);\n",
              "        }\n",
              "      </script>\n",
              "    </div>\n",
              "  </div>\n",
              "  "
            ]
          },
          "metadata": {},
          "execution_count": 6
        }
      ]
    },
    {
      "cell_type": "code",
      "source": [
        "y = dataset['CLASSE']\n",
        "X = dataset.iloc[:,:-1]"
      ],
      "metadata": {
        "id": "doYiwjGRYCgH"
      },
      "execution_count": 7,
      "outputs": []
    },
    {
      "cell_type": "code",
      "source": [
        "X.isnull().sum()"
      ],
      "metadata": {
        "colab": {
          "base_uri": "https://localhost:8080/"
        },
        "id": "MCIjkPw1YQ9W",
        "outputId": "33abf6f7-c78d-4831-9239-6733649406a9"
      },
      "execution_count": 9,
      "outputs": [
        {
          "output_type": "execute_result",
          "data": {
            "text/plain": [
              "SALDO_ATUAL         7\n",
              "RESIDENCIADESDE     0\n",
              "IDADE               0\n",
              "OUTROSPLANOSPGTO    0\n",
              "DATA                0\n",
              "ESTADOCIVIL         8\n",
              "PROPOSITO           0\n",
              "dtype: int64"
            ]
          },
          "metadata": {},
          "execution_count": 9
        }
      ]
    },
    {
      "cell_type": "code",
      "source": [
        "mediana = X['SALDO_ATUAL'].median()\n",
        "mediana"
      ],
      "metadata": {
        "colab": {
          "base_uri": "https://localhost:8080/"
        },
        "id": "U4iwMlo3YSxF",
        "outputId": "d546a628-4a30-4760-8e28-c26d15aac619"
      },
      "execution_count": 10,
      "outputs": [
        {
          "output_type": "execute_result",
          "data": {
            "text/plain": [
              "2323.0"
            ]
          },
          "metadata": {},
          "execution_count": 10
        }
      ]
    },
    {
      "cell_type": "code",
      "source": [
        "X['SALDO_ATUAL'].fillna(mediana,inplace=True)\n",
        "X.isnull().sum()"
      ],
      "metadata": {
        "colab": {
          "base_uri": "https://localhost:8080/"
        },
        "id": "0HVfJx2YZJlA",
        "outputId": "90caa57e-ea36-4b27-fc64-5931f5f57648"
      },
      "execution_count": 11,
      "outputs": [
        {
          "output_type": "execute_result",
          "data": {
            "text/plain": [
              "SALDO_ATUAL         0\n",
              "RESIDENCIADESDE     0\n",
              "IDADE               0\n",
              "OUTROSPLANOSPGTO    0\n",
              "DATA                0\n",
              "ESTADOCIVIL         8\n",
              "PROPOSITO           0\n",
              "dtype: int64"
            ]
          },
          "metadata": {},
          "execution_count": 11
        }
      ]
    },
    {
      "cell_type": "code",
      "source": [
        "agrupado = X.groupby(['ESTADOCIVIL']).size()\n",
        "agrupado"
      ],
      "metadata": {
        "colab": {
          "base_uri": "https://localhost:8080/"
        },
        "id": "fsLseHR5ZXiH",
        "outputId": "a7b0afdf-2429-465f-d752-9ac946f927ba"
      },
      "execution_count": 12,
      "outputs": [
        {
          "output_type": "execute_result",
          "data": {
            "text/plain": [
              "ESTADOCIVIL\n",
              "fem div/cas               308\n",
              "masculino casado/viuvo     92\n",
              "masculino div/sep          50\n",
              "masculino solteiro        542\n",
              "dtype: int64"
            ]
          },
          "metadata": {},
          "execution_count": 12
        }
      ]
    },
    {
      "cell_type": "code",
      "source": [
        "X['ESTADOCIVIL'].fillna('masculino solteiro', inplace=True)\n",
        "X.isnull().sum()"
      ],
      "metadata": {
        "colab": {
          "base_uri": "https://localhost:8080/"
        },
        "id": "Dn9sMMvWZqI-",
        "outputId": "f1f805ae-31ef-452c-9930-a95c31e65925"
      },
      "execution_count": 15,
      "outputs": [
        {
          "output_type": "execute_result",
          "data": {
            "text/plain": [
              "SALDO_ATUAL         0\n",
              "RESIDENCIADESDE     0\n",
              "IDADE               0\n",
              "OUTROSPLANOSPGTO    0\n",
              "DATA                0\n",
              "ESTADOCIVIL         0\n",
              "PROPOSITO           0\n",
              "dtype: int64"
            ]
          },
          "metadata": {},
          "execution_count": 15
        }
      ]
    },
    {
      "cell_type": "code",
      "source": [
        "desv = X['SALDO_ATUAL'].std()\n",
        "desv"
      ],
      "metadata": {
        "colab": {
          "base_uri": "https://localhost:8080/"
        },
        "id": "-HTyg8eiZ93O",
        "outputId": "40bc9cc7-32af-4f3e-a131-30a1219efa3d"
      },
      "execution_count": 16,
      "outputs": [
        {
          "output_type": "execute_result",
          "data": {
            "text/plain": [
              "685936688.9820067"
            ]
          },
          "metadata": {},
          "execution_count": 16
        }
      ]
    },
    {
      "cell_type": "code",
      "source": [
        "X.loc[X['SALDO_ATUAL']>= 2 * desv, 'SALDO_ATUAL']"
      ],
      "metadata": {
        "colab": {
          "base_uri": "https://localhost:8080/"
        },
        "id": "qCwVGPJHavW_",
        "outputId": "604f19e1-2a1e-4cf7-8938-2f6e6fca2ffd"
      },
      "execution_count": 17,
      "outputs": [
        {
          "output_type": "execute_result",
          "data": {
            "text/plain": [
              "127    2.541111e+09\n",
              "160    2.154441e+10\n",
              "Name: SALDO_ATUAL, dtype: float64"
            ]
          },
          "metadata": {},
          "execution_count": 17
        }
      ]
    },
    {
      "cell_type": "code",
      "source": [
        "mediana = X['SALDO_ATUAL'].median()\n",
        "mediana"
      ],
      "metadata": {
        "colab": {
          "base_uri": "https://localhost:8080/"
        },
        "id": "8ldQ85Xca61Y",
        "outputId": "99e68ff0-330a-40ab-8ef8-97ac718a97cd"
      },
      "execution_count": 18,
      "outputs": [
        {
          "output_type": "execute_result",
          "data": {
            "text/plain": [
              "2323.0"
            ]
          },
          "metadata": {},
          "execution_count": 18
        }
      ]
    },
    {
      "cell_type": "code",
      "source": [
        "X.loc[X['SALDO_ATUAL']>= 2 * desv, 'SALDO_ATUAL'] = mediana\n",
        "X.loc[X['SALDO_ATUAL']>= 2 * desv]"
      ],
      "metadata": {
        "colab": {
          "base_uri": "https://localhost:8080/",
          "height": 49
        },
        "id": "mYsB9VeWbOD-",
        "outputId": "cb1faae7-78bb-47af-a782-5cb9d7677a2e"
      },
      "execution_count": 19,
      "outputs": [
        {
          "output_type": "execute_result",
          "data": {
            "text/plain": [
              "Empty DataFrame\n",
              "Columns: [SALDO_ATUAL, RESIDENCIADESDE, IDADE, OUTROSPLANOSPGTO, DATA, ESTADOCIVIL, PROPOSITO]\n",
              "Index: []"
            ],
            "text/html": [
              "\n",
              "  <div id=\"df-f9a0e2fd-a36c-40f5-a589-e28e61def581\">\n",
              "    <div class=\"colab-df-container\">\n",
              "      <div>\n",
              "<style scoped>\n",
              "    .dataframe tbody tr th:only-of-type {\n",
              "        vertical-align: middle;\n",
              "    }\n",
              "\n",
              "    .dataframe tbody tr th {\n",
              "        vertical-align: top;\n",
              "    }\n",
              "\n",
              "    .dataframe thead th {\n",
              "        text-align: right;\n",
              "    }\n",
              "</style>\n",
              "<table border=\"1\" class=\"dataframe\">\n",
              "  <thead>\n",
              "    <tr style=\"text-align: right;\">\n",
              "      <th></th>\n",
              "      <th>SALDO_ATUAL</th>\n",
              "      <th>RESIDENCIADESDE</th>\n",
              "      <th>IDADE</th>\n",
              "      <th>OUTROSPLANOSPGTO</th>\n",
              "      <th>DATA</th>\n",
              "      <th>ESTADOCIVIL</th>\n",
              "      <th>PROPOSITO</th>\n",
              "    </tr>\n",
              "  </thead>\n",
              "  <tbody>\n",
              "  </tbody>\n",
              "</table>\n",
              "</div>\n",
              "      <button class=\"colab-df-convert\" onclick=\"convertToInteractive('df-f9a0e2fd-a36c-40f5-a589-e28e61def581')\"\n",
              "              title=\"Convert this dataframe to an interactive table.\"\n",
              "              style=\"display:none;\">\n",
              "        \n",
              "  <svg xmlns=\"http://www.w3.org/2000/svg\" height=\"24px\"viewBox=\"0 0 24 24\"\n",
              "       width=\"24px\">\n",
              "    <path d=\"M0 0h24v24H0V0z\" fill=\"none\"/>\n",
              "    <path d=\"M18.56 5.44l.94 2.06.94-2.06 2.06-.94-2.06-.94-.94-2.06-.94 2.06-2.06.94zm-11 1L8.5 8.5l.94-2.06 2.06-.94-2.06-.94L8.5 2.5l-.94 2.06-2.06.94zm10 10l.94 2.06.94-2.06 2.06-.94-2.06-.94-.94-2.06-.94 2.06-2.06.94z\"/><path d=\"M17.41 7.96l-1.37-1.37c-.4-.4-.92-.59-1.43-.59-.52 0-1.04.2-1.43.59L10.3 9.45l-7.72 7.72c-.78.78-.78 2.05 0 2.83L4 21.41c.39.39.9.59 1.41.59.51 0 1.02-.2 1.41-.59l7.78-7.78 2.81-2.81c.8-.78.8-2.07 0-2.86zM5.41 20L4 18.59l7.72-7.72 1.47 1.35L5.41 20z\"/>\n",
              "  </svg>\n",
              "      </button>\n",
              "      \n",
              "  <style>\n",
              "    .colab-df-container {\n",
              "      display:flex;\n",
              "      flex-wrap:wrap;\n",
              "      gap: 12px;\n",
              "    }\n",
              "\n",
              "    .colab-df-convert {\n",
              "      background-color: #E8F0FE;\n",
              "      border: none;\n",
              "      border-radius: 50%;\n",
              "      cursor: pointer;\n",
              "      display: none;\n",
              "      fill: #1967D2;\n",
              "      height: 32px;\n",
              "      padding: 0 0 0 0;\n",
              "      width: 32px;\n",
              "    }\n",
              "\n",
              "    .colab-df-convert:hover {\n",
              "      background-color: #E2EBFA;\n",
              "      box-shadow: 0px 1px 2px rgba(60, 64, 67, 0.3), 0px 1px 3px 1px rgba(60, 64, 67, 0.15);\n",
              "      fill: #174EA6;\n",
              "    }\n",
              "\n",
              "    [theme=dark] .colab-df-convert {\n",
              "      background-color: #3B4455;\n",
              "      fill: #D2E3FC;\n",
              "    }\n",
              "\n",
              "    [theme=dark] .colab-df-convert:hover {\n",
              "      background-color: #434B5C;\n",
              "      box-shadow: 0px 1px 3px 1px rgba(0, 0, 0, 0.15);\n",
              "      filter: drop-shadow(0px 1px 2px rgba(0, 0, 0, 0.3));\n",
              "      fill: #FFFFFF;\n",
              "    }\n",
              "  </style>\n",
              "\n",
              "      <script>\n",
              "        const buttonEl =\n",
              "          document.querySelector('#df-f9a0e2fd-a36c-40f5-a589-e28e61def581 button.colab-df-convert');\n",
              "        buttonEl.style.display =\n",
              "          google.colab.kernel.accessAllowed ? 'block' : 'none';\n",
              "\n",
              "        async function convertToInteractive(key) {\n",
              "          const element = document.querySelector('#df-f9a0e2fd-a36c-40f5-a589-e28e61def581');\n",
              "          const dataTable =\n",
              "            await google.colab.kernel.invokeFunction('convertToInteractive',\n",
              "                                                     [key], {});\n",
              "          if (!dataTable) return;\n",
              "\n",
              "          const docLinkHtml = 'Like what you see? Visit the ' +\n",
              "            '<a target=\"_blank\" href=https://colab.research.google.com/notebooks/data_table.ipynb>data table notebook</a>'\n",
              "            + ' to learn more about interactive tables.';\n",
              "          element.innerHTML = '';\n",
              "          dataTable['output_type'] = 'display_data';\n",
              "          await google.colab.output.renderOutput(dataTable, element);\n",
              "          const docLink = document.createElement('div');\n",
              "          docLink.innerHTML = docLinkHtml;\n",
              "          element.appendChild(docLink);\n",
              "        }\n",
              "      </script>\n",
              "    </div>\n",
              "  </div>\n",
              "  "
            ]
          },
          "metadata": {},
          "execution_count": 19
        }
      ]
    },
    {
      "cell_type": "code",
      "source": [
        "agrupado = X.groupby(['PROPOSITO']).size()\n",
        "agrupado"
      ],
      "metadata": {
        "colab": {
          "base_uri": "https://localhost:8080/"
        },
        "id": "NqjIQnuybet4",
        "outputId": "341533a7-8610-4f05-aa30-576f969096fc"
      },
      "execution_count": 20,
      "outputs": [
        {
          "output_type": "execute_result",
          "data": {
            "text/plain": [
              "PROPOSITO\n",
              "Eletrodomésticos        12\n",
              "carro novo             234\n",
              "carro usado            103\n",
              "educação                50\n",
              "mobilia/equipamento    181\n",
              "negócios                97\n",
              "obras                   22\n",
              "outros                  12\n",
              "qualificação             9\n",
              "radio/tv               280\n",
              "dtype: int64"
            ]
          },
          "metadata": {},
          "execution_count": 20
        }
      ]
    },
    {
      "cell_type": "code",
      "source": [
        "X.loc[X['PROPOSITO']=='Eletrodomésticos','PROPOSITO'] = 'outros'\n",
        "X.loc[X['PROPOSITO']=='qualificação','PROPOSITO'] = 'outros'\n",
        "agrupado = X.groupby(['PROPOSITO']).size()\n",
        "agrupado"
      ],
      "metadata": {
        "colab": {
          "base_uri": "https://localhost:8080/"
        },
        "id": "Qdh8VeNUccon",
        "outputId": "73415df1-2fd9-46f1-e027-772c5c05f49b"
      },
      "execution_count": 22,
      "outputs": [
        {
          "output_type": "execute_result",
          "data": {
            "text/plain": [
              "PROPOSITO\n",
              "carro novo             234\n",
              "carro usado            103\n",
              "educação                50\n",
              "mobilia/equipamento    181\n",
              "negócios                97\n",
              "obras                   22\n",
              "outros                  33\n",
              "radio/tv               280\n",
              "dtype: int64"
            ]
          },
          "metadata": {},
          "execution_count": 22
        }
      ]
    },
    {
      "cell_type": "code",
      "source": [
        "X['DATA']"
      ],
      "metadata": {
        "colab": {
          "base_uri": "https://localhost:8080/"
        },
        "id": "jualtKo1dDHw",
        "outputId": "c5aa6892-290b-44ca-8c29-3741560a3e11"
      },
      "execution_count": 23,
      "outputs": [
        {
          "output_type": "execute_result",
          "data": {
            "text/plain": [
              "0      01/01/2019\n",
              "1      01/01/2020\n",
              "2      02/01/2020\n",
              "3      02/01/2019\n",
              "4      03/01/2018\n",
              "          ...    \n",
              "995    29/06/2018\n",
              "996    30/06/2018\n",
              "997    03/07/2018\n",
              "998    04/07/2019\n",
              "999    05/07/2018\n",
              "Name: DATA, Length: 1000, dtype: object"
            ]
          },
          "metadata": {},
          "execution_count": 23
        }
      ]
    },
    {
      "cell_type": "code",
      "source": [
        "X['DATA'] = pd.to_datetime(X['DATA'], format='%d/%m/%Y')"
      ],
      "metadata": {
        "id": "bj74w6VUdPP_"
      },
      "execution_count": 26,
      "outputs": []
    },
    {
      "cell_type": "code",
      "source": [
        "X['DATA']"
      ],
      "metadata": {
        "colab": {
          "base_uri": "https://localhost:8080/"
        },
        "id": "DM2nkaUYd2aQ",
        "outputId": "49a3e7ba-b777-463a-911e-6bdc1b82555e"
      },
      "execution_count": 27,
      "outputs": [
        {
          "output_type": "execute_result",
          "data": {
            "text/plain": [
              "0     2019-01-01\n",
              "1     2020-01-01\n",
              "2     2020-01-02\n",
              "3     2019-01-02\n",
              "4     2018-01-03\n",
              "         ...    \n",
              "995   2018-06-29\n",
              "996   2018-06-30\n",
              "997   2018-07-03\n",
              "998   2019-07-04\n",
              "999   2018-07-05\n",
              "Name: DATA, Length: 1000, dtype: datetime64[ns]"
            ]
          },
          "metadata": {},
          "execution_count": 27
        }
      ]
    },
    {
      "cell_type": "code",
      "source": [
        "X['ANO'] = X['DATA'].dt.year\n",
        "X['MES'] = X['DATA'].dt.month\n",
        "X['DIASEMANA'] = X['DATA'].dt.day_name()"
      ],
      "metadata": {
        "id": "TTWWlthfeC2w"
      },
      "execution_count": 28,
      "outputs": []
    },
    {
      "cell_type": "code",
      "source": [
        "X['DIASEMANA']"
      ],
      "metadata": {
        "colab": {
          "base_uri": "https://localhost:8080/"
        },
        "id": "o5uoh5PQeViZ",
        "outputId": "dc9ad653-d0d9-4ab8-9e8a-f97dc0d2635f"
      },
      "execution_count": 31,
      "outputs": [
        {
          "output_type": "execute_result",
          "data": {
            "text/plain": [
              "0        Tuesday\n",
              "1      Wednesday\n",
              "2       Thursday\n",
              "3      Wednesday\n",
              "4      Wednesday\n",
              "         ...    \n",
              "995       Friday\n",
              "996     Saturday\n",
              "997      Tuesday\n",
              "998     Thursday\n",
              "999     Thursday\n",
              "Name: DIASEMANA, Length: 1000, dtype: object"
            ]
          },
          "metadata": {},
          "execution_count": 31
        }
      ]
    },
    {
      "cell_type": "code",
      "source": [
        "X['ESTADOCIVIL'].unique()"
      ],
      "metadata": {
        "colab": {
          "base_uri": "https://localhost:8080/"
        },
        "id": "Ci1WZt_zeXuy",
        "outputId": "f12c033e-6a9a-4473-ecbc-c3ddf844ba8b"
      },
      "execution_count": 32,
      "outputs": [
        {
          "output_type": "execute_result",
          "data": {
            "text/plain": [
              "array(['masculino solteiro', 'fem div/cas', 'masculino div/sep',\n",
              "       'masculino casado/viuvo'], dtype=object)"
            ]
          },
          "metadata": {},
          "execution_count": 32
        }
      ]
    },
    {
      "cell_type": "code",
      "source": [
        "X['PROPOSITO'].unique()"
      ],
      "metadata": {
        "colab": {
          "base_uri": "https://localhost:8080/"
        },
        "id": "Uyh9Yc-ZetBz",
        "outputId": "bf167ee9-202f-4325-f0d7-82c4efd8fe48"
      },
      "execution_count": 34,
      "outputs": [
        {
          "output_type": "execute_result",
          "data": {
            "text/plain": [
              "array(['radio/tv', 'educação', 'mobilia/equipamento', 'carro novo',\n",
              "       'carro usado', 'negócios', 'outros', 'obras'], dtype=object)"
            ]
          },
          "metadata": {},
          "execution_count": 34
        }
      ]
    },
    {
      "cell_type": "code",
      "source": [
        "X['DIASEMANA'].unique()"
      ],
      "metadata": {
        "colab": {
          "base_uri": "https://localhost:8080/"
        },
        "id": "utRUkROqezOB",
        "outputId": "4557897b-4e3b-47a1-e692-e69e20e8a5ce"
      },
      "execution_count": 35,
      "outputs": [
        {
          "output_type": "execute_result",
          "data": {
            "text/plain": [
              "array(['Tuesday', 'Wednesday', 'Thursday', 'Saturday', 'Sunday', 'Monday',\n",
              "       'Friday'], dtype=object)"
            ]
          },
          "metadata": {},
          "execution_count": 35
        }
      ]
    },
    {
      "cell_type": "code",
      "source": [
        "labelencoder1 = LabelEncoder()\n",
        "X['ESTADOCIVIL'] = labelencoder1.fit_transform(X['ESTADOCIVIL'])\n",
        "X['PROPOSITO'] = labelencoder1.fit_transform(X['PROPOSITO'])\n",
        "X['DIASEMANA'] = labelencoder1.fit_transform(X['DIASEMANA']) "
      ],
      "metadata": {
        "id": "79q7jjBYe7QB"
      },
      "execution_count": 37,
      "outputs": []
    },
    {
      "cell_type": "code",
      "source": [
        "X.head()"
      ],
      "metadata": {
        "colab": {
          "base_uri": "https://localhost:8080/",
          "height": 206
        },
        "id": "exdZs2CbfjrL",
        "outputId": "6bbf7e8b-ea5f-4a45-d346-f0b685fc84c5"
      },
      "execution_count": 38,
      "outputs": [
        {
          "output_type": "execute_result",
          "data": {
            "text/plain": [
              "   SALDO_ATUAL  RESIDENCIADESDE  IDADE OUTROSPLANOSPGTO       DATA  \\\n",
              "0       1169.0                4     67           nenhum 2019-01-01   \n",
              "1       5951.0                2     22           nenhum 2020-01-01   \n",
              "2       2096.0                3     49           nenhum 2020-01-02   \n",
              "3       7882.0                4     45           nenhum 2019-01-02   \n",
              "4       4870.0                4     53           nenhum 2018-01-03   \n",
              "\n",
              "   ESTADOCIVIL  PROPOSITO   ANO  MES  DIASEMANA  \n",
              "0            3          7  2019    1          5  \n",
              "1            0          7  2020    1          6  \n",
              "2            3          2  2020    1          4  \n",
              "3            3          3  2019    1          6  \n",
              "4            3          0  2018    1          6  "
            ],
            "text/html": [
              "\n",
              "  <div id=\"df-503b31b2-3080-472c-8013-47c151dfe86b\">\n",
              "    <div class=\"colab-df-container\">\n",
              "      <div>\n",
              "<style scoped>\n",
              "    .dataframe tbody tr th:only-of-type {\n",
              "        vertical-align: middle;\n",
              "    }\n",
              "\n",
              "    .dataframe tbody tr th {\n",
              "        vertical-align: top;\n",
              "    }\n",
              "\n",
              "    .dataframe thead th {\n",
              "        text-align: right;\n",
              "    }\n",
              "</style>\n",
              "<table border=\"1\" class=\"dataframe\">\n",
              "  <thead>\n",
              "    <tr style=\"text-align: right;\">\n",
              "      <th></th>\n",
              "      <th>SALDO_ATUAL</th>\n",
              "      <th>RESIDENCIADESDE</th>\n",
              "      <th>IDADE</th>\n",
              "      <th>OUTROSPLANOSPGTO</th>\n",
              "      <th>DATA</th>\n",
              "      <th>ESTADOCIVIL</th>\n",
              "      <th>PROPOSITO</th>\n",
              "      <th>ANO</th>\n",
              "      <th>MES</th>\n",
              "      <th>DIASEMANA</th>\n",
              "    </tr>\n",
              "  </thead>\n",
              "  <tbody>\n",
              "    <tr>\n",
              "      <th>0</th>\n",
              "      <td>1169.0</td>\n",
              "      <td>4</td>\n",
              "      <td>67</td>\n",
              "      <td>nenhum</td>\n",
              "      <td>2019-01-01</td>\n",
              "      <td>3</td>\n",
              "      <td>7</td>\n",
              "      <td>2019</td>\n",
              "      <td>1</td>\n",
              "      <td>5</td>\n",
              "    </tr>\n",
              "    <tr>\n",
              "      <th>1</th>\n",
              "      <td>5951.0</td>\n",
              "      <td>2</td>\n",
              "      <td>22</td>\n",
              "      <td>nenhum</td>\n",
              "      <td>2020-01-01</td>\n",
              "      <td>0</td>\n",
              "      <td>7</td>\n",
              "      <td>2020</td>\n",
              "      <td>1</td>\n",
              "      <td>6</td>\n",
              "    </tr>\n",
              "    <tr>\n",
              "      <th>2</th>\n",
              "      <td>2096.0</td>\n",
              "      <td>3</td>\n",
              "      <td>49</td>\n",
              "      <td>nenhum</td>\n",
              "      <td>2020-01-02</td>\n",
              "      <td>3</td>\n",
              "      <td>2</td>\n",
              "      <td>2020</td>\n",
              "      <td>1</td>\n",
              "      <td>4</td>\n",
              "    </tr>\n",
              "    <tr>\n",
              "      <th>3</th>\n",
              "      <td>7882.0</td>\n",
              "      <td>4</td>\n",
              "      <td>45</td>\n",
              "      <td>nenhum</td>\n",
              "      <td>2019-01-02</td>\n",
              "      <td>3</td>\n",
              "      <td>3</td>\n",
              "      <td>2019</td>\n",
              "      <td>1</td>\n",
              "      <td>6</td>\n",
              "    </tr>\n",
              "    <tr>\n",
              "      <th>4</th>\n",
              "      <td>4870.0</td>\n",
              "      <td>4</td>\n",
              "      <td>53</td>\n",
              "      <td>nenhum</td>\n",
              "      <td>2018-01-03</td>\n",
              "      <td>3</td>\n",
              "      <td>0</td>\n",
              "      <td>2018</td>\n",
              "      <td>1</td>\n",
              "      <td>6</td>\n",
              "    </tr>\n",
              "  </tbody>\n",
              "</table>\n",
              "</div>\n",
              "      <button class=\"colab-df-convert\" onclick=\"convertToInteractive('df-503b31b2-3080-472c-8013-47c151dfe86b')\"\n",
              "              title=\"Convert this dataframe to an interactive table.\"\n",
              "              style=\"display:none;\">\n",
              "        \n",
              "  <svg xmlns=\"http://www.w3.org/2000/svg\" height=\"24px\"viewBox=\"0 0 24 24\"\n",
              "       width=\"24px\">\n",
              "    <path d=\"M0 0h24v24H0V0z\" fill=\"none\"/>\n",
              "    <path d=\"M18.56 5.44l.94 2.06.94-2.06 2.06-.94-2.06-.94-.94-2.06-.94 2.06-2.06.94zm-11 1L8.5 8.5l.94-2.06 2.06-.94-2.06-.94L8.5 2.5l-.94 2.06-2.06.94zm10 10l.94 2.06.94-2.06 2.06-.94-2.06-.94-.94-2.06-.94 2.06-2.06.94z\"/><path d=\"M17.41 7.96l-1.37-1.37c-.4-.4-.92-.59-1.43-.59-.52 0-1.04.2-1.43.59L10.3 9.45l-7.72 7.72c-.78.78-.78 2.05 0 2.83L4 21.41c.39.39.9.59 1.41.59.51 0 1.02-.2 1.41-.59l7.78-7.78 2.81-2.81c.8-.78.8-2.07 0-2.86zM5.41 20L4 18.59l7.72-7.72 1.47 1.35L5.41 20z\"/>\n",
              "  </svg>\n",
              "      </button>\n",
              "      \n",
              "  <style>\n",
              "    .colab-df-container {\n",
              "      display:flex;\n",
              "      flex-wrap:wrap;\n",
              "      gap: 12px;\n",
              "    }\n",
              "\n",
              "    .colab-df-convert {\n",
              "      background-color: #E8F0FE;\n",
              "      border: none;\n",
              "      border-radius: 50%;\n",
              "      cursor: pointer;\n",
              "      display: none;\n",
              "      fill: #1967D2;\n",
              "      height: 32px;\n",
              "      padding: 0 0 0 0;\n",
              "      width: 32px;\n",
              "    }\n",
              "\n",
              "    .colab-df-convert:hover {\n",
              "      background-color: #E2EBFA;\n",
              "      box-shadow: 0px 1px 2px rgba(60, 64, 67, 0.3), 0px 1px 3px 1px rgba(60, 64, 67, 0.15);\n",
              "      fill: #174EA6;\n",
              "    }\n",
              "\n",
              "    [theme=dark] .colab-df-convert {\n",
              "      background-color: #3B4455;\n",
              "      fill: #D2E3FC;\n",
              "    }\n",
              "\n",
              "    [theme=dark] .colab-df-convert:hover {\n",
              "      background-color: #434B5C;\n",
              "      box-shadow: 0px 1px 3px 1px rgba(0, 0, 0, 0.15);\n",
              "      filter: drop-shadow(0px 1px 2px rgba(0, 0, 0, 0.3));\n",
              "      fill: #FFFFFF;\n",
              "    }\n",
              "  </style>\n",
              "\n",
              "      <script>\n",
              "        const buttonEl =\n",
              "          document.querySelector('#df-503b31b2-3080-472c-8013-47c151dfe86b button.colab-df-convert');\n",
              "        buttonEl.style.display =\n",
              "          google.colab.kernel.accessAllowed ? 'block' : 'none';\n",
              "\n",
              "        async function convertToInteractive(key) {\n",
              "          const element = document.querySelector('#df-503b31b2-3080-472c-8013-47c151dfe86b');\n",
              "          const dataTable =\n",
              "            await google.colab.kernel.invokeFunction('convertToInteractive',\n",
              "                                                     [key], {});\n",
              "          if (!dataTable) return;\n",
              "\n",
              "          const docLinkHtml = 'Like what you see? Visit the ' +\n",
              "            '<a target=\"_blank\" href=https://colab.research.google.com/notebooks/data_table.ipynb>data table notebook</a>'\n",
              "            + ' to learn more about interactive tables.';\n",
              "          element.innerHTML = '';\n",
              "          dataTable['output_type'] = 'display_data';\n",
              "          await google.colab.output.renderOutput(dataTable, element);\n",
              "          const docLink = document.createElement('div');\n",
              "          docLink.innerHTML = docLinkHtml;\n",
              "          element.appendChild(docLink);\n",
              "        }\n",
              "      </script>\n",
              "    </div>\n",
              "  </div>\n",
              "  "
            ]
          },
          "metadata": {},
          "execution_count": 38
        }
      ]
    },
    {
      "cell_type": "code",
      "source": [
        "outros = X['OUTROSPLANOSPGTO'].unique()\n",
        "outros"
      ],
      "metadata": {
        "colab": {
          "base_uri": "https://localhost:8080/"
        },
        "id": "ZrT-vufDfrnQ",
        "outputId": "27273b84-4cf0-49c7-8dfa-e00dc4ce6d92"
      },
      "execution_count": 39,
      "outputs": [
        {
          "output_type": "execute_result",
          "data": {
            "text/plain": [
              "array(['nenhum', 'banco', 'stores'], dtype=object)"
            ]
          },
          "metadata": {},
          "execution_count": 39
        }
      ]
    },
    {
      "cell_type": "code",
      "source": [
        "z = pd.get_dummies(X['OUTROSPLANOSPGTO'], prefix = 'OUTROS')"
      ],
      "metadata": {
        "id": "1O4iVCshf8eg"
      },
      "execution_count": 40,
      "outputs": []
    },
    {
      "cell_type": "code",
      "source": [
        "z"
      ],
      "metadata": {
        "colab": {
          "base_uri": "https://localhost:8080/",
          "height": 423
        },
        "id": "b1wZ4F0EgS8Q",
        "outputId": "f94dbb5a-7b78-4b00-c87c-fa95748988b1"
      },
      "execution_count": 41,
      "outputs": [
        {
          "output_type": "execute_result",
          "data": {
            "text/plain": [
              "     OUTROS_banco  OUTROS_nenhum  OUTROS_stores\n",
              "0               0              1              0\n",
              "1               0              1              0\n",
              "2               0              1              0\n",
              "3               0              1              0\n",
              "4               0              1              0\n",
              "..            ...            ...            ...\n",
              "995             0              1              0\n",
              "996             0              1              0\n",
              "997             0              1              0\n",
              "998             0              1              0\n",
              "999             0              1              0\n",
              "\n",
              "[1000 rows x 3 columns]"
            ],
            "text/html": [
              "\n",
              "  <div id=\"df-5ab3755e-1145-4a8e-a46c-3e133b91ff17\">\n",
              "    <div class=\"colab-df-container\">\n",
              "      <div>\n",
              "<style scoped>\n",
              "    .dataframe tbody tr th:only-of-type {\n",
              "        vertical-align: middle;\n",
              "    }\n",
              "\n",
              "    .dataframe tbody tr th {\n",
              "        vertical-align: top;\n",
              "    }\n",
              "\n",
              "    .dataframe thead th {\n",
              "        text-align: right;\n",
              "    }\n",
              "</style>\n",
              "<table border=\"1\" class=\"dataframe\">\n",
              "  <thead>\n",
              "    <tr style=\"text-align: right;\">\n",
              "      <th></th>\n",
              "      <th>OUTROS_banco</th>\n",
              "      <th>OUTROS_nenhum</th>\n",
              "      <th>OUTROS_stores</th>\n",
              "    </tr>\n",
              "  </thead>\n",
              "  <tbody>\n",
              "    <tr>\n",
              "      <th>0</th>\n",
              "      <td>0</td>\n",
              "      <td>1</td>\n",
              "      <td>0</td>\n",
              "    </tr>\n",
              "    <tr>\n",
              "      <th>1</th>\n",
              "      <td>0</td>\n",
              "      <td>1</td>\n",
              "      <td>0</td>\n",
              "    </tr>\n",
              "    <tr>\n",
              "      <th>2</th>\n",
              "      <td>0</td>\n",
              "      <td>1</td>\n",
              "      <td>0</td>\n",
              "    </tr>\n",
              "    <tr>\n",
              "      <th>3</th>\n",
              "      <td>0</td>\n",
              "      <td>1</td>\n",
              "      <td>0</td>\n",
              "    </tr>\n",
              "    <tr>\n",
              "      <th>4</th>\n",
              "      <td>0</td>\n",
              "      <td>1</td>\n",
              "      <td>0</td>\n",
              "    </tr>\n",
              "    <tr>\n",
              "      <th>...</th>\n",
              "      <td>...</td>\n",
              "      <td>...</td>\n",
              "      <td>...</td>\n",
              "    </tr>\n",
              "    <tr>\n",
              "      <th>995</th>\n",
              "      <td>0</td>\n",
              "      <td>1</td>\n",
              "      <td>0</td>\n",
              "    </tr>\n",
              "    <tr>\n",
              "      <th>996</th>\n",
              "      <td>0</td>\n",
              "      <td>1</td>\n",
              "      <td>0</td>\n",
              "    </tr>\n",
              "    <tr>\n",
              "      <th>997</th>\n",
              "      <td>0</td>\n",
              "      <td>1</td>\n",
              "      <td>0</td>\n",
              "    </tr>\n",
              "    <tr>\n",
              "      <th>998</th>\n",
              "      <td>0</td>\n",
              "      <td>1</td>\n",
              "      <td>0</td>\n",
              "    </tr>\n",
              "    <tr>\n",
              "      <th>999</th>\n",
              "      <td>0</td>\n",
              "      <td>1</td>\n",
              "      <td>0</td>\n",
              "    </tr>\n",
              "  </tbody>\n",
              "</table>\n",
              "<p>1000 rows × 3 columns</p>\n",
              "</div>\n",
              "      <button class=\"colab-df-convert\" onclick=\"convertToInteractive('df-5ab3755e-1145-4a8e-a46c-3e133b91ff17')\"\n",
              "              title=\"Convert this dataframe to an interactive table.\"\n",
              "              style=\"display:none;\">\n",
              "        \n",
              "  <svg xmlns=\"http://www.w3.org/2000/svg\" height=\"24px\"viewBox=\"0 0 24 24\"\n",
              "       width=\"24px\">\n",
              "    <path d=\"M0 0h24v24H0V0z\" fill=\"none\"/>\n",
              "    <path d=\"M18.56 5.44l.94 2.06.94-2.06 2.06-.94-2.06-.94-.94-2.06-.94 2.06-2.06.94zm-11 1L8.5 8.5l.94-2.06 2.06-.94-2.06-.94L8.5 2.5l-.94 2.06-2.06.94zm10 10l.94 2.06.94-2.06 2.06-.94-2.06-.94-.94-2.06-.94 2.06-2.06.94z\"/><path d=\"M17.41 7.96l-1.37-1.37c-.4-.4-.92-.59-1.43-.59-.52 0-1.04.2-1.43.59L10.3 9.45l-7.72 7.72c-.78.78-.78 2.05 0 2.83L4 21.41c.39.39.9.59 1.41.59.51 0 1.02-.2 1.41-.59l7.78-7.78 2.81-2.81c.8-.78.8-2.07 0-2.86zM5.41 20L4 18.59l7.72-7.72 1.47 1.35L5.41 20z\"/>\n",
              "  </svg>\n",
              "      </button>\n",
              "      \n",
              "  <style>\n",
              "    .colab-df-container {\n",
              "      display:flex;\n",
              "      flex-wrap:wrap;\n",
              "      gap: 12px;\n",
              "    }\n",
              "\n",
              "    .colab-df-convert {\n",
              "      background-color: #E8F0FE;\n",
              "      border: none;\n",
              "      border-radius: 50%;\n",
              "      cursor: pointer;\n",
              "      display: none;\n",
              "      fill: #1967D2;\n",
              "      height: 32px;\n",
              "      padding: 0 0 0 0;\n",
              "      width: 32px;\n",
              "    }\n",
              "\n",
              "    .colab-df-convert:hover {\n",
              "      background-color: #E2EBFA;\n",
              "      box-shadow: 0px 1px 2px rgba(60, 64, 67, 0.3), 0px 1px 3px 1px rgba(60, 64, 67, 0.15);\n",
              "      fill: #174EA6;\n",
              "    }\n",
              "\n",
              "    [theme=dark] .colab-df-convert {\n",
              "      background-color: #3B4455;\n",
              "      fill: #D2E3FC;\n",
              "    }\n",
              "\n",
              "    [theme=dark] .colab-df-convert:hover {\n",
              "      background-color: #434B5C;\n",
              "      box-shadow: 0px 1px 3px 1px rgba(0, 0, 0, 0.15);\n",
              "      filter: drop-shadow(0px 1px 2px rgba(0, 0, 0, 0.3));\n",
              "      fill: #FFFFFF;\n",
              "    }\n",
              "  </style>\n",
              "\n",
              "      <script>\n",
              "        const buttonEl =\n",
              "          document.querySelector('#df-5ab3755e-1145-4a8e-a46c-3e133b91ff17 button.colab-df-convert');\n",
              "        buttonEl.style.display =\n",
              "          google.colab.kernel.accessAllowed ? 'block' : 'none';\n",
              "\n",
              "        async function convertToInteractive(key) {\n",
              "          const element = document.querySelector('#df-5ab3755e-1145-4a8e-a46c-3e133b91ff17');\n",
              "          const dataTable =\n",
              "            await google.colab.kernel.invokeFunction('convertToInteractive',\n",
              "                                                     [key], {});\n",
              "          if (!dataTable) return;\n",
              "\n",
              "          const docLinkHtml = 'Like what you see? Visit the ' +\n",
              "            '<a target=\"_blank\" href=https://colab.research.google.com/notebooks/data_table.ipynb>data table notebook</a>'\n",
              "            + ' to learn more about interactive tables.';\n",
              "          element.innerHTML = '';\n",
              "          dataTable['output_type'] = 'display_data';\n",
              "          await google.colab.output.renderOutput(dataTable, element);\n",
              "          const docLink = document.createElement('div');\n",
              "          docLink.innerHTML = docLinkHtml;\n",
              "          element.appendChild(docLink);\n",
              "        }\n",
              "      </script>\n",
              "    </div>\n",
              "  </div>\n",
              "  "
            ]
          },
          "metadata": {},
          "execution_count": 41
        }
      ]
    },
    {
      "cell_type": "code",
      "source": [
        "X"
      ],
      "metadata": {
        "colab": {
          "base_uri": "https://localhost:8080/",
          "height": 423
        },
        "id": "X7XDHLk4gUTa",
        "outputId": "2177ff37-06d7-4ebc-f72b-ffd254ebcfcc"
      },
      "execution_count": 42,
      "outputs": [
        {
          "output_type": "execute_result",
          "data": {
            "text/plain": [
              "     SALDO_ATUAL  RESIDENCIADESDE  IDADE OUTROSPLANOSPGTO       DATA  \\\n",
              "0         1169.0                4     67           nenhum 2019-01-01   \n",
              "1         5951.0                2     22           nenhum 2020-01-01   \n",
              "2         2096.0                3     49           nenhum 2020-01-02   \n",
              "3         7882.0                4     45           nenhum 2019-01-02   \n",
              "4         4870.0                4     53           nenhum 2018-01-03   \n",
              "..           ...              ...    ...              ...        ...   \n",
              "995       1736.0                4     31           nenhum 2018-06-29   \n",
              "996       3857.0                4     40           nenhum 2018-06-30   \n",
              "997        804.0                4     38           nenhum 2018-07-03   \n",
              "998       1845.0                4     23           nenhum 2019-07-04   \n",
              "999       4576.0                4     27           nenhum 2018-07-05   \n",
              "\n",
              "     ESTADOCIVIL  PROPOSITO   ANO  MES  DIASEMANA  \n",
              "0              3          7  2019    1          5  \n",
              "1              0          7  2020    1          6  \n",
              "2              3          2  2020    1          4  \n",
              "3              3          3  2019    1          6  \n",
              "4              3          0  2018    1          6  \n",
              "..           ...        ...   ...  ...        ...  \n",
              "995            0          3  2018    6          0  \n",
              "996            2          1  2018    6          2  \n",
              "997            3          7  2018    7          5  \n",
              "998            3          7  2019    7          4  \n",
              "999            3          1  2018    7          4  \n",
              "\n",
              "[1000 rows x 10 columns]"
            ],
            "text/html": [
              "\n",
              "  <div id=\"df-8f4d91f5-26a9-499a-86a6-409ede66e27a\">\n",
              "    <div class=\"colab-df-container\">\n",
              "      <div>\n",
              "<style scoped>\n",
              "    .dataframe tbody tr th:only-of-type {\n",
              "        vertical-align: middle;\n",
              "    }\n",
              "\n",
              "    .dataframe tbody tr th {\n",
              "        vertical-align: top;\n",
              "    }\n",
              "\n",
              "    .dataframe thead th {\n",
              "        text-align: right;\n",
              "    }\n",
              "</style>\n",
              "<table border=\"1\" class=\"dataframe\">\n",
              "  <thead>\n",
              "    <tr style=\"text-align: right;\">\n",
              "      <th></th>\n",
              "      <th>SALDO_ATUAL</th>\n",
              "      <th>RESIDENCIADESDE</th>\n",
              "      <th>IDADE</th>\n",
              "      <th>OUTROSPLANOSPGTO</th>\n",
              "      <th>DATA</th>\n",
              "      <th>ESTADOCIVIL</th>\n",
              "      <th>PROPOSITO</th>\n",
              "      <th>ANO</th>\n",
              "      <th>MES</th>\n",
              "      <th>DIASEMANA</th>\n",
              "    </tr>\n",
              "  </thead>\n",
              "  <tbody>\n",
              "    <tr>\n",
              "      <th>0</th>\n",
              "      <td>1169.0</td>\n",
              "      <td>4</td>\n",
              "      <td>67</td>\n",
              "      <td>nenhum</td>\n",
              "      <td>2019-01-01</td>\n",
              "      <td>3</td>\n",
              "      <td>7</td>\n",
              "      <td>2019</td>\n",
              "      <td>1</td>\n",
              "      <td>5</td>\n",
              "    </tr>\n",
              "    <tr>\n",
              "      <th>1</th>\n",
              "      <td>5951.0</td>\n",
              "      <td>2</td>\n",
              "      <td>22</td>\n",
              "      <td>nenhum</td>\n",
              "      <td>2020-01-01</td>\n",
              "      <td>0</td>\n",
              "      <td>7</td>\n",
              "      <td>2020</td>\n",
              "      <td>1</td>\n",
              "      <td>6</td>\n",
              "    </tr>\n",
              "    <tr>\n",
              "      <th>2</th>\n",
              "      <td>2096.0</td>\n",
              "      <td>3</td>\n",
              "      <td>49</td>\n",
              "      <td>nenhum</td>\n",
              "      <td>2020-01-02</td>\n",
              "      <td>3</td>\n",
              "      <td>2</td>\n",
              "      <td>2020</td>\n",
              "      <td>1</td>\n",
              "      <td>4</td>\n",
              "    </tr>\n",
              "    <tr>\n",
              "      <th>3</th>\n",
              "      <td>7882.0</td>\n",
              "      <td>4</td>\n",
              "      <td>45</td>\n",
              "      <td>nenhum</td>\n",
              "      <td>2019-01-02</td>\n",
              "      <td>3</td>\n",
              "      <td>3</td>\n",
              "      <td>2019</td>\n",
              "      <td>1</td>\n",
              "      <td>6</td>\n",
              "    </tr>\n",
              "    <tr>\n",
              "      <th>4</th>\n",
              "      <td>4870.0</td>\n",
              "      <td>4</td>\n",
              "      <td>53</td>\n",
              "      <td>nenhum</td>\n",
              "      <td>2018-01-03</td>\n",
              "      <td>3</td>\n",
              "      <td>0</td>\n",
              "      <td>2018</td>\n",
              "      <td>1</td>\n",
              "      <td>6</td>\n",
              "    </tr>\n",
              "    <tr>\n",
              "      <th>...</th>\n",
              "      <td>...</td>\n",
              "      <td>...</td>\n",
              "      <td>...</td>\n",
              "      <td>...</td>\n",
              "      <td>...</td>\n",
              "      <td>...</td>\n",
              "      <td>...</td>\n",
              "      <td>...</td>\n",
              "      <td>...</td>\n",
              "      <td>...</td>\n",
              "    </tr>\n",
              "    <tr>\n",
              "      <th>995</th>\n",
              "      <td>1736.0</td>\n",
              "      <td>4</td>\n",
              "      <td>31</td>\n",
              "      <td>nenhum</td>\n",
              "      <td>2018-06-29</td>\n",
              "      <td>0</td>\n",
              "      <td>3</td>\n",
              "      <td>2018</td>\n",
              "      <td>6</td>\n",
              "      <td>0</td>\n",
              "    </tr>\n",
              "    <tr>\n",
              "      <th>996</th>\n",
              "      <td>3857.0</td>\n",
              "      <td>4</td>\n",
              "      <td>40</td>\n",
              "      <td>nenhum</td>\n",
              "      <td>2018-06-30</td>\n",
              "      <td>2</td>\n",
              "      <td>1</td>\n",
              "      <td>2018</td>\n",
              "      <td>6</td>\n",
              "      <td>2</td>\n",
              "    </tr>\n",
              "    <tr>\n",
              "      <th>997</th>\n",
              "      <td>804.0</td>\n",
              "      <td>4</td>\n",
              "      <td>38</td>\n",
              "      <td>nenhum</td>\n",
              "      <td>2018-07-03</td>\n",
              "      <td>3</td>\n",
              "      <td>7</td>\n",
              "      <td>2018</td>\n",
              "      <td>7</td>\n",
              "      <td>5</td>\n",
              "    </tr>\n",
              "    <tr>\n",
              "      <th>998</th>\n",
              "      <td>1845.0</td>\n",
              "      <td>4</td>\n",
              "      <td>23</td>\n",
              "      <td>nenhum</td>\n",
              "      <td>2019-07-04</td>\n",
              "      <td>3</td>\n",
              "      <td>7</td>\n",
              "      <td>2019</td>\n",
              "      <td>7</td>\n",
              "      <td>4</td>\n",
              "    </tr>\n",
              "    <tr>\n",
              "      <th>999</th>\n",
              "      <td>4576.0</td>\n",
              "      <td>4</td>\n",
              "      <td>27</td>\n",
              "      <td>nenhum</td>\n",
              "      <td>2018-07-05</td>\n",
              "      <td>3</td>\n",
              "      <td>1</td>\n",
              "      <td>2018</td>\n",
              "      <td>7</td>\n",
              "      <td>4</td>\n",
              "    </tr>\n",
              "  </tbody>\n",
              "</table>\n",
              "<p>1000 rows × 10 columns</p>\n",
              "</div>\n",
              "      <button class=\"colab-df-convert\" onclick=\"convertToInteractive('df-8f4d91f5-26a9-499a-86a6-409ede66e27a')\"\n",
              "              title=\"Convert this dataframe to an interactive table.\"\n",
              "              style=\"display:none;\">\n",
              "        \n",
              "  <svg xmlns=\"http://www.w3.org/2000/svg\" height=\"24px\"viewBox=\"0 0 24 24\"\n",
              "       width=\"24px\">\n",
              "    <path d=\"M0 0h24v24H0V0z\" fill=\"none\"/>\n",
              "    <path d=\"M18.56 5.44l.94 2.06.94-2.06 2.06-.94-2.06-.94-.94-2.06-.94 2.06-2.06.94zm-11 1L8.5 8.5l.94-2.06 2.06-.94-2.06-.94L8.5 2.5l-.94 2.06-2.06.94zm10 10l.94 2.06.94-2.06 2.06-.94-2.06-.94-.94-2.06-.94 2.06-2.06.94z\"/><path d=\"M17.41 7.96l-1.37-1.37c-.4-.4-.92-.59-1.43-.59-.52 0-1.04.2-1.43.59L10.3 9.45l-7.72 7.72c-.78.78-.78 2.05 0 2.83L4 21.41c.39.39.9.59 1.41.59.51 0 1.02-.2 1.41-.59l7.78-7.78 2.81-2.81c.8-.78.8-2.07 0-2.86zM5.41 20L4 18.59l7.72-7.72 1.47 1.35L5.41 20z\"/>\n",
              "  </svg>\n",
              "      </button>\n",
              "      \n",
              "  <style>\n",
              "    .colab-df-container {\n",
              "      display:flex;\n",
              "      flex-wrap:wrap;\n",
              "      gap: 12px;\n",
              "    }\n",
              "\n",
              "    .colab-df-convert {\n",
              "      background-color: #E8F0FE;\n",
              "      border: none;\n",
              "      border-radius: 50%;\n",
              "      cursor: pointer;\n",
              "      display: none;\n",
              "      fill: #1967D2;\n",
              "      height: 32px;\n",
              "      padding: 0 0 0 0;\n",
              "      width: 32px;\n",
              "    }\n",
              "\n",
              "    .colab-df-convert:hover {\n",
              "      background-color: #E2EBFA;\n",
              "      box-shadow: 0px 1px 2px rgba(60, 64, 67, 0.3), 0px 1px 3px 1px rgba(60, 64, 67, 0.15);\n",
              "      fill: #174EA6;\n",
              "    }\n",
              "\n",
              "    [theme=dark] .colab-df-convert {\n",
              "      background-color: #3B4455;\n",
              "      fill: #D2E3FC;\n",
              "    }\n",
              "\n",
              "    [theme=dark] .colab-df-convert:hover {\n",
              "      background-color: #434B5C;\n",
              "      box-shadow: 0px 1px 3px 1px rgba(0, 0, 0, 0.15);\n",
              "      filter: drop-shadow(0px 1px 2px rgba(0, 0, 0, 0.3));\n",
              "      fill: #FFFFFF;\n",
              "    }\n",
              "  </style>\n",
              "\n",
              "      <script>\n",
              "        const buttonEl =\n",
              "          document.querySelector('#df-8f4d91f5-26a9-499a-86a6-409ede66e27a button.colab-df-convert');\n",
              "        buttonEl.style.display =\n",
              "          google.colab.kernel.accessAllowed ? 'block' : 'none';\n",
              "\n",
              "        async function convertToInteractive(key) {\n",
              "          const element = document.querySelector('#df-8f4d91f5-26a9-499a-86a6-409ede66e27a');\n",
              "          const dataTable =\n",
              "            await google.colab.kernel.invokeFunction('convertToInteractive',\n",
              "                                                     [key], {});\n",
              "          if (!dataTable) return;\n",
              "\n",
              "          const docLinkHtml = 'Like what you see? Visit the ' +\n",
              "            '<a target=\"_blank\" href=https://colab.research.google.com/notebooks/data_table.ipynb>data table notebook</a>'\n",
              "            + ' to learn more about interactive tables.';\n",
              "          element.innerHTML = '';\n",
              "          dataTable['output_type'] = 'display_data';\n",
              "          await google.colab.output.renderOutput(dataTable, element);\n",
              "          const docLink = document.createElement('div');\n",
              "          docLink.innerHTML = docLinkHtml;\n",
              "          element.appendChild(docLink);\n",
              "        }\n",
              "      </script>\n",
              "    </div>\n",
              "  </div>\n",
              "  "
            ]
          },
          "metadata": {},
          "execution_count": 42
        }
      ]
    },
    {
      "cell_type": "code",
      "source": [
        "sc = StandardScaler()\n",
        "m = sc.fit_transform(X.iloc[:,0:3])\n",
        "m"
      ],
      "metadata": {
        "colab": {
          "base_uri": "https://localhost:8080/"
        },
        "id": "PTcdeQ6Yg7OP",
        "outputId": "0e3729ca-eb2c-4b7c-a6e1-3b41fe00e727"
      },
      "execution_count": 43,
      "outputs": [
        {
          "output_type": "execute_result",
          "data": {
            "text/plain": [
              "array([[-0.74551643,  1.04698668,  1.6392759 ],\n",
              "       [ 0.95774038, -0.76597727, -0.74024139],\n",
              "       [-0.41533679,  0.14050471,  0.68746898],\n",
              "       ...,\n",
              "       [-0.87552244,  1.04698668,  0.1058092 ],\n",
              "       [-0.50473818,  1.04698668, -0.68736323],\n",
              "       [ 0.46799171,  1.04698668, -0.47585058]])"
            ]
          },
          "metadata": {},
          "execution_count": 43
        }
      ]
    },
    {
      "cell_type": "code",
      "source": [
        "X = pd.concat([X,z,pd.DataFrame(m,columns=['SALDO_ATUAL_N','RESIDENCEADESDE_N','IDADE_N'])],axis=1)"
      ],
      "metadata": {
        "id": "3QzIt2KjhNsI"
      },
      "execution_count": 45,
      "outputs": []
    },
    {
      "cell_type": "code",
      "source": [
        "X.head()"
      ],
      "metadata": {
        "colab": {
          "base_uri": "https://localhost:8080/",
          "height": 357
        },
        "id": "wzMGJplKh0OP",
        "outputId": "9834d403-d653-470c-b2cf-8540e92d35ff"
      },
      "execution_count": 47,
      "outputs": [
        {
          "output_type": "execute_result",
          "data": {
            "text/plain": [
              "   SALDO_ATUAL  RESIDENCIADESDE  IDADE OUTROSPLANOSPGTO       DATA  \\\n",
              "0       1169.0                4     67           nenhum 2019-01-01   \n",
              "1       5951.0                2     22           nenhum 2020-01-01   \n",
              "2       2096.0                3     49           nenhum 2020-01-02   \n",
              "3       7882.0                4     45           nenhum 2019-01-02   \n",
              "4       4870.0                4     53           nenhum 2018-01-03   \n",
              "\n",
              "   ESTADOCIVIL  PROPOSITO   ANO  MES  DIASEMANA  OUTROS_banco  OUTROS_nenhum  \\\n",
              "0            3          7  2019    1          5             0              1   \n",
              "1            0          7  2020    1          6             0              1   \n",
              "2            3          2  2020    1          4             0              1   \n",
              "3            3          3  2019    1          6             0              1   \n",
              "4            3          0  2018    1          6             0              1   \n",
              "\n",
              "   OUTROS_stores  SALDO_ATUAL_N  RESIDENCEADESDE_N   IDADE_N  \n",
              "0              0      -0.745516           1.046987  1.639276  \n",
              "1              0       0.957740          -0.765977 -0.740241  \n",
              "2              0      -0.415337           0.140505  0.687469  \n",
              "3              0       1.645526           1.046987  0.475956  \n",
              "4              0       0.572709           1.046987  0.898982  "
            ],
            "text/html": [
              "\n",
              "  <div id=\"df-a165ee16-9390-4db2-ac77-7a3d94933aaf\">\n",
              "    <div class=\"colab-df-container\">\n",
              "      <div>\n",
              "<style scoped>\n",
              "    .dataframe tbody tr th:only-of-type {\n",
              "        vertical-align: middle;\n",
              "    }\n",
              "\n",
              "    .dataframe tbody tr th {\n",
              "        vertical-align: top;\n",
              "    }\n",
              "\n",
              "    .dataframe thead th {\n",
              "        text-align: right;\n",
              "    }\n",
              "</style>\n",
              "<table border=\"1\" class=\"dataframe\">\n",
              "  <thead>\n",
              "    <tr style=\"text-align: right;\">\n",
              "      <th></th>\n",
              "      <th>SALDO_ATUAL</th>\n",
              "      <th>RESIDENCIADESDE</th>\n",
              "      <th>IDADE</th>\n",
              "      <th>OUTROSPLANOSPGTO</th>\n",
              "      <th>DATA</th>\n",
              "      <th>ESTADOCIVIL</th>\n",
              "      <th>PROPOSITO</th>\n",
              "      <th>ANO</th>\n",
              "      <th>MES</th>\n",
              "      <th>DIASEMANA</th>\n",
              "      <th>OUTROS_banco</th>\n",
              "      <th>OUTROS_nenhum</th>\n",
              "      <th>OUTROS_stores</th>\n",
              "      <th>SALDO_ATUAL_N</th>\n",
              "      <th>RESIDENCEADESDE_N</th>\n",
              "      <th>IDADE_N</th>\n",
              "    </tr>\n",
              "  </thead>\n",
              "  <tbody>\n",
              "    <tr>\n",
              "      <th>0</th>\n",
              "      <td>1169.0</td>\n",
              "      <td>4</td>\n",
              "      <td>67</td>\n",
              "      <td>nenhum</td>\n",
              "      <td>2019-01-01</td>\n",
              "      <td>3</td>\n",
              "      <td>7</td>\n",
              "      <td>2019</td>\n",
              "      <td>1</td>\n",
              "      <td>5</td>\n",
              "      <td>0</td>\n",
              "      <td>1</td>\n",
              "      <td>0</td>\n",
              "      <td>-0.745516</td>\n",
              "      <td>1.046987</td>\n",
              "      <td>1.639276</td>\n",
              "    </tr>\n",
              "    <tr>\n",
              "      <th>1</th>\n",
              "      <td>5951.0</td>\n",
              "      <td>2</td>\n",
              "      <td>22</td>\n",
              "      <td>nenhum</td>\n",
              "      <td>2020-01-01</td>\n",
              "      <td>0</td>\n",
              "      <td>7</td>\n",
              "      <td>2020</td>\n",
              "      <td>1</td>\n",
              "      <td>6</td>\n",
              "      <td>0</td>\n",
              "      <td>1</td>\n",
              "      <td>0</td>\n",
              "      <td>0.957740</td>\n",
              "      <td>-0.765977</td>\n",
              "      <td>-0.740241</td>\n",
              "    </tr>\n",
              "    <tr>\n",
              "      <th>2</th>\n",
              "      <td>2096.0</td>\n",
              "      <td>3</td>\n",
              "      <td>49</td>\n",
              "      <td>nenhum</td>\n",
              "      <td>2020-01-02</td>\n",
              "      <td>3</td>\n",
              "      <td>2</td>\n",
              "      <td>2020</td>\n",
              "      <td>1</td>\n",
              "      <td>4</td>\n",
              "      <td>0</td>\n",
              "      <td>1</td>\n",
              "      <td>0</td>\n",
              "      <td>-0.415337</td>\n",
              "      <td>0.140505</td>\n",
              "      <td>0.687469</td>\n",
              "    </tr>\n",
              "    <tr>\n",
              "      <th>3</th>\n",
              "      <td>7882.0</td>\n",
              "      <td>4</td>\n",
              "      <td>45</td>\n",
              "      <td>nenhum</td>\n",
              "      <td>2019-01-02</td>\n",
              "      <td>3</td>\n",
              "      <td>3</td>\n",
              "      <td>2019</td>\n",
              "      <td>1</td>\n",
              "      <td>6</td>\n",
              "      <td>0</td>\n",
              "      <td>1</td>\n",
              "      <td>0</td>\n",
              "      <td>1.645526</td>\n",
              "      <td>1.046987</td>\n",
              "      <td>0.475956</td>\n",
              "    </tr>\n",
              "    <tr>\n",
              "      <th>4</th>\n",
              "      <td>4870.0</td>\n",
              "      <td>4</td>\n",
              "      <td>53</td>\n",
              "      <td>nenhum</td>\n",
              "      <td>2018-01-03</td>\n",
              "      <td>3</td>\n",
              "      <td>0</td>\n",
              "      <td>2018</td>\n",
              "      <td>1</td>\n",
              "      <td>6</td>\n",
              "      <td>0</td>\n",
              "      <td>1</td>\n",
              "      <td>0</td>\n",
              "      <td>0.572709</td>\n",
              "      <td>1.046987</td>\n",
              "      <td>0.898982</td>\n",
              "    </tr>\n",
              "  </tbody>\n",
              "</table>\n",
              "</div>\n",
              "      <button class=\"colab-df-convert\" onclick=\"convertToInteractive('df-a165ee16-9390-4db2-ac77-7a3d94933aaf')\"\n",
              "              title=\"Convert this dataframe to an interactive table.\"\n",
              "              style=\"display:none;\">\n",
              "        \n",
              "  <svg xmlns=\"http://www.w3.org/2000/svg\" height=\"24px\"viewBox=\"0 0 24 24\"\n",
              "       width=\"24px\">\n",
              "    <path d=\"M0 0h24v24H0V0z\" fill=\"none\"/>\n",
              "    <path d=\"M18.56 5.44l.94 2.06.94-2.06 2.06-.94-2.06-.94-.94-2.06-.94 2.06-2.06.94zm-11 1L8.5 8.5l.94-2.06 2.06-.94-2.06-.94L8.5 2.5l-.94 2.06-2.06.94zm10 10l.94 2.06.94-2.06 2.06-.94-2.06-.94-.94-2.06-.94 2.06-2.06.94z\"/><path d=\"M17.41 7.96l-1.37-1.37c-.4-.4-.92-.59-1.43-.59-.52 0-1.04.2-1.43.59L10.3 9.45l-7.72 7.72c-.78.78-.78 2.05 0 2.83L4 21.41c.39.39.9.59 1.41.59.51 0 1.02-.2 1.41-.59l7.78-7.78 2.81-2.81c.8-.78.8-2.07 0-2.86zM5.41 20L4 18.59l7.72-7.72 1.47 1.35L5.41 20z\"/>\n",
              "  </svg>\n",
              "      </button>\n",
              "      \n",
              "  <style>\n",
              "    .colab-df-container {\n",
              "      display:flex;\n",
              "      flex-wrap:wrap;\n",
              "      gap: 12px;\n",
              "    }\n",
              "\n",
              "    .colab-df-convert {\n",
              "      background-color: #E8F0FE;\n",
              "      border: none;\n",
              "      border-radius: 50%;\n",
              "      cursor: pointer;\n",
              "      display: none;\n",
              "      fill: #1967D2;\n",
              "      height: 32px;\n",
              "      padding: 0 0 0 0;\n",
              "      width: 32px;\n",
              "    }\n",
              "\n",
              "    .colab-df-convert:hover {\n",
              "      background-color: #E2EBFA;\n",
              "      box-shadow: 0px 1px 2px rgba(60, 64, 67, 0.3), 0px 1px 3px 1px rgba(60, 64, 67, 0.15);\n",
              "      fill: #174EA6;\n",
              "    }\n",
              "\n",
              "    [theme=dark] .colab-df-convert {\n",
              "      background-color: #3B4455;\n",
              "      fill: #D2E3FC;\n",
              "    }\n",
              "\n",
              "    [theme=dark] .colab-df-convert:hover {\n",
              "      background-color: #434B5C;\n",
              "      box-shadow: 0px 1px 3px 1px rgba(0, 0, 0, 0.15);\n",
              "      filter: drop-shadow(0px 1px 2px rgba(0, 0, 0, 0.3));\n",
              "      fill: #FFFFFF;\n",
              "    }\n",
              "  </style>\n",
              "\n",
              "      <script>\n",
              "        const buttonEl =\n",
              "          document.querySelector('#df-a165ee16-9390-4db2-ac77-7a3d94933aaf button.colab-df-convert');\n",
              "        buttonEl.style.display =\n",
              "          google.colab.kernel.accessAllowed ? 'block' : 'none';\n",
              "\n",
              "        async function convertToInteractive(key) {\n",
              "          const element = document.querySelector('#df-a165ee16-9390-4db2-ac77-7a3d94933aaf');\n",
              "          const dataTable =\n",
              "            await google.colab.kernel.invokeFunction('convertToInteractive',\n",
              "                                                     [key], {});\n",
              "          if (!dataTable) return;\n",
              "\n",
              "          const docLinkHtml = 'Like what you see? Visit the ' +\n",
              "            '<a target=\"_blank\" href=https://colab.research.google.com/notebooks/data_table.ipynb>data table notebook</a>'\n",
              "            + ' to learn more about interactive tables.';\n",
              "          element.innerHTML = '';\n",
              "          dataTable['output_type'] = 'display_data';\n",
              "          await google.colab.output.renderOutput(dataTable, element);\n",
              "          const docLink = document.createElement('div');\n",
              "          docLink.innerHTML = docLinkHtml;\n",
              "          element.appendChild(docLink);\n",
              "        }\n",
              "      </script>\n",
              "    </div>\n",
              "  </div>\n",
              "  "
            ]
          },
          "metadata": {},
          "execution_count": 47
        }
      ]
    },
    {
      "cell_type": "code",
      "source": [
        "X.drop(columns=['SALDO_ATUAL','RESIDENCIADESDE','IDADE','OUTROSPLANOSPGTO','DATA','OUTROS_banco'], inplace=True)"
      ],
      "metadata": {
        "id": "PA9MxpQhiCQA"
      },
      "execution_count": 49,
      "outputs": []
    },
    {
      "cell_type": "code",
      "source": [
        "X"
      ],
      "metadata": {
        "colab": {
          "base_uri": "https://localhost:8080/",
          "height": 423
        },
        "id": "IgrYGN1li0oz",
        "outputId": "7dc4f314-7bbf-4956-e01a-f6fa52742c6c"
      },
      "execution_count": 50,
      "outputs": [
        {
          "output_type": "execute_result",
          "data": {
            "text/plain": [
              "     ESTADOCIVIL  PROPOSITO   ANO  MES  DIASEMANA  OUTROS_nenhum  \\\n",
              "0              3          7  2019    1          5              1   \n",
              "1              0          7  2020    1          6              1   \n",
              "2              3          2  2020    1          4              1   \n",
              "3              3          3  2019    1          6              1   \n",
              "4              3          0  2018    1          6              1   \n",
              "..           ...        ...   ...  ...        ...            ...   \n",
              "995            0          3  2018    6          0              1   \n",
              "996            2          1  2018    6          2              1   \n",
              "997            3          7  2018    7          5              1   \n",
              "998            3          7  2019    7          4              1   \n",
              "999            3          1  2018    7          4              1   \n",
              "\n",
              "     OUTROS_stores  SALDO_ATUAL_N  RESIDENCEADESDE_N   IDADE_N  \n",
              "0                0      -0.745516           1.046987  1.639276  \n",
              "1                0       0.957740          -0.765977 -0.740241  \n",
              "2                0      -0.415337           0.140505  0.687469  \n",
              "3                0       1.645526           1.046987  0.475956  \n",
              "4                0       0.572709           1.046987  0.898982  \n",
              "..             ...            ...                ...       ...  \n",
              "995              0      -0.543562           1.046987 -0.264338  \n",
              "996              0       0.211898           1.046987  0.211566  \n",
              "997              0      -0.875522           1.046987  0.105809  \n",
              "998              0      -0.504738           1.046987 -0.687363  \n",
              "999              0       0.467992           1.046987 -0.475851  \n",
              "\n",
              "[1000 rows x 10 columns]"
            ],
            "text/html": [
              "\n",
              "  <div id=\"df-9596e94a-02b9-40de-aa9c-02f8dc8e3d2b\">\n",
              "    <div class=\"colab-df-container\">\n",
              "      <div>\n",
              "<style scoped>\n",
              "    .dataframe tbody tr th:only-of-type {\n",
              "        vertical-align: middle;\n",
              "    }\n",
              "\n",
              "    .dataframe tbody tr th {\n",
              "        vertical-align: top;\n",
              "    }\n",
              "\n",
              "    .dataframe thead th {\n",
              "        text-align: right;\n",
              "    }\n",
              "</style>\n",
              "<table border=\"1\" class=\"dataframe\">\n",
              "  <thead>\n",
              "    <tr style=\"text-align: right;\">\n",
              "      <th></th>\n",
              "      <th>ESTADOCIVIL</th>\n",
              "      <th>PROPOSITO</th>\n",
              "      <th>ANO</th>\n",
              "      <th>MES</th>\n",
              "      <th>DIASEMANA</th>\n",
              "      <th>OUTROS_nenhum</th>\n",
              "      <th>OUTROS_stores</th>\n",
              "      <th>SALDO_ATUAL_N</th>\n",
              "      <th>RESIDENCEADESDE_N</th>\n",
              "      <th>IDADE_N</th>\n",
              "    </tr>\n",
              "  </thead>\n",
              "  <tbody>\n",
              "    <tr>\n",
              "      <th>0</th>\n",
              "      <td>3</td>\n",
              "      <td>7</td>\n",
              "      <td>2019</td>\n",
              "      <td>1</td>\n",
              "      <td>5</td>\n",
              "      <td>1</td>\n",
              "      <td>0</td>\n",
              "      <td>-0.745516</td>\n",
              "      <td>1.046987</td>\n",
              "      <td>1.639276</td>\n",
              "    </tr>\n",
              "    <tr>\n",
              "      <th>1</th>\n",
              "      <td>0</td>\n",
              "      <td>7</td>\n",
              "      <td>2020</td>\n",
              "      <td>1</td>\n",
              "      <td>6</td>\n",
              "      <td>1</td>\n",
              "      <td>0</td>\n",
              "      <td>0.957740</td>\n",
              "      <td>-0.765977</td>\n",
              "      <td>-0.740241</td>\n",
              "    </tr>\n",
              "    <tr>\n",
              "      <th>2</th>\n",
              "      <td>3</td>\n",
              "      <td>2</td>\n",
              "      <td>2020</td>\n",
              "      <td>1</td>\n",
              "      <td>4</td>\n",
              "      <td>1</td>\n",
              "      <td>0</td>\n",
              "      <td>-0.415337</td>\n",
              "      <td>0.140505</td>\n",
              "      <td>0.687469</td>\n",
              "    </tr>\n",
              "    <tr>\n",
              "      <th>3</th>\n",
              "      <td>3</td>\n",
              "      <td>3</td>\n",
              "      <td>2019</td>\n",
              "      <td>1</td>\n",
              "      <td>6</td>\n",
              "      <td>1</td>\n",
              "      <td>0</td>\n",
              "      <td>1.645526</td>\n",
              "      <td>1.046987</td>\n",
              "      <td>0.475956</td>\n",
              "    </tr>\n",
              "    <tr>\n",
              "      <th>4</th>\n",
              "      <td>3</td>\n",
              "      <td>0</td>\n",
              "      <td>2018</td>\n",
              "      <td>1</td>\n",
              "      <td>6</td>\n",
              "      <td>1</td>\n",
              "      <td>0</td>\n",
              "      <td>0.572709</td>\n",
              "      <td>1.046987</td>\n",
              "      <td>0.898982</td>\n",
              "    </tr>\n",
              "    <tr>\n",
              "      <th>...</th>\n",
              "      <td>...</td>\n",
              "      <td>...</td>\n",
              "      <td>...</td>\n",
              "      <td>...</td>\n",
              "      <td>...</td>\n",
              "      <td>...</td>\n",
              "      <td>...</td>\n",
              "      <td>...</td>\n",
              "      <td>...</td>\n",
              "      <td>...</td>\n",
              "    </tr>\n",
              "    <tr>\n",
              "      <th>995</th>\n",
              "      <td>0</td>\n",
              "      <td>3</td>\n",
              "      <td>2018</td>\n",
              "      <td>6</td>\n",
              "      <td>0</td>\n",
              "      <td>1</td>\n",
              "      <td>0</td>\n",
              "      <td>-0.543562</td>\n",
              "      <td>1.046987</td>\n",
              "      <td>-0.264338</td>\n",
              "    </tr>\n",
              "    <tr>\n",
              "      <th>996</th>\n",
              "      <td>2</td>\n",
              "      <td>1</td>\n",
              "      <td>2018</td>\n",
              "      <td>6</td>\n",
              "      <td>2</td>\n",
              "      <td>1</td>\n",
              "      <td>0</td>\n",
              "      <td>0.211898</td>\n",
              "      <td>1.046987</td>\n",
              "      <td>0.211566</td>\n",
              "    </tr>\n",
              "    <tr>\n",
              "      <th>997</th>\n",
              "      <td>3</td>\n",
              "      <td>7</td>\n",
              "      <td>2018</td>\n",
              "      <td>7</td>\n",
              "      <td>5</td>\n",
              "      <td>1</td>\n",
              "      <td>0</td>\n",
              "      <td>-0.875522</td>\n",
              "      <td>1.046987</td>\n",
              "      <td>0.105809</td>\n",
              "    </tr>\n",
              "    <tr>\n",
              "      <th>998</th>\n",
              "      <td>3</td>\n",
              "      <td>7</td>\n",
              "      <td>2019</td>\n",
              "      <td>7</td>\n",
              "      <td>4</td>\n",
              "      <td>1</td>\n",
              "      <td>0</td>\n",
              "      <td>-0.504738</td>\n",
              "      <td>1.046987</td>\n",
              "      <td>-0.687363</td>\n",
              "    </tr>\n",
              "    <tr>\n",
              "      <th>999</th>\n",
              "      <td>3</td>\n",
              "      <td>1</td>\n",
              "      <td>2018</td>\n",
              "      <td>7</td>\n",
              "      <td>4</td>\n",
              "      <td>1</td>\n",
              "      <td>0</td>\n",
              "      <td>0.467992</td>\n",
              "      <td>1.046987</td>\n",
              "      <td>-0.475851</td>\n",
              "    </tr>\n",
              "  </tbody>\n",
              "</table>\n",
              "<p>1000 rows × 10 columns</p>\n",
              "</div>\n",
              "      <button class=\"colab-df-convert\" onclick=\"convertToInteractive('df-9596e94a-02b9-40de-aa9c-02f8dc8e3d2b')\"\n",
              "              title=\"Convert this dataframe to an interactive table.\"\n",
              "              style=\"display:none;\">\n",
              "        \n",
              "  <svg xmlns=\"http://www.w3.org/2000/svg\" height=\"24px\"viewBox=\"0 0 24 24\"\n",
              "       width=\"24px\">\n",
              "    <path d=\"M0 0h24v24H0V0z\" fill=\"none\"/>\n",
              "    <path d=\"M18.56 5.44l.94 2.06.94-2.06 2.06-.94-2.06-.94-.94-2.06-.94 2.06-2.06.94zm-11 1L8.5 8.5l.94-2.06 2.06-.94-2.06-.94L8.5 2.5l-.94 2.06-2.06.94zm10 10l.94 2.06.94-2.06 2.06-.94-2.06-.94-.94-2.06-.94 2.06-2.06.94z\"/><path d=\"M17.41 7.96l-1.37-1.37c-.4-.4-.92-.59-1.43-.59-.52 0-1.04.2-1.43.59L10.3 9.45l-7.72 7.72c-.78.78-.78 2.05 0 2.83L4 21.41c.39.39.9.59 1.41.59.51 0 1.02-.2 1.41-.59l7.78-7.78 2.81-2.81c.8-.78.8-2.07 0-2.86zM5.41 20L4 18.59l7.72-7.72 1.47 1.35L5.41 20z\"/>\n",
              "  </svg>\n",
              "      </button>\n",
              "      \n",
              "  <style>\n",
              "    .colab-df-container {\n",
              "      display:flex;\n",
              "      flex-wrap:wrap;\n",
              "      gap: 12px;\n",
              "    }\n",
              "\n",
              "    .colab-df-convert {\n",
              "      background-color: #E8F0FE;\n",
              "      border: none;\n",
              "      border-radius: 50%;\n",
              "      cursor: pointer;\n",
              "      display: none;\n",
              "      fill: #1967D2;\n",
              "      height: 32px;\n",
              "      padding: 0 0 0 0;\n",
              "      width: 32px;\n",
              "    }\n",
              "\n",
              "    .colab-df-convert:hover {\n",
              "      background-color: #E2EBFA;\n",
              "      box-shadow: 0px 1px 2px rgba(60, 64, 67, 0.3), 0px 1px 3px 1px rgba(60, 64, 67, 0.15);\n",
              "      fill: #174EA6;\n",
              "    }\n",
              "\n",
              "    [theme=dark] .colab-df-convert {\n",
              "      background-color: #3B4455;\n",
              "      fill: #D2E3FC;\n",
              "    }\n",
              "\n",
              "    [theme=dark] .colab-df-convert:hover {\n",
              "      background-color: #434B5C;\n",
              "      box-shadow: 0px 1px 3px 1px rgba(0, 0, 0, 0.15);\n",
              "      filter: drop-shadow(0px 1px 2px rgba(0, 0, 0, 0.3));\n",
              "      fill: #FFFFFF;\n",
              "    }\n",
              "  </style>\n",
              "\n",
              "      <script>\n",
              "        const buttonEl =\n",
              "          document.querySelector('#df-9596e94a-02b9-40de-aa9c-02f8dc8e3d2b button.colab-df-convert');\n",
              "        buttonEl.style.display =\n",
              "          google.colab.kernel.accessAllowed ? 'block' : 'none';\n",
              "\n",
              "        async function convertToInteractive(key) {\n",
              "          const element = document.querySelector('#df-9596e94a-02b9-40de-aa9c-02f8dc8e3d2b');\n",
              "          const dataTable =\n",
              "            await google.colab.kernel.invokeFunction('convertToInteractive',\n",
              "                                                     [key], {});\n",
              "          if (!dataTable) return;\n",
              "\n",
              "          const docLinkHtml = 'Like what you see? Visit the ' +\n",
              "            '<a target=\"_blank\" href=https://colab.research.google.com/notebooks/data_table.ipynb>data table notebook</a>'\n",
              "            + ' to learn more about interactive tables.';\n",
              "          element.innerHTML = '';\n",
              "          dataTable['output_type'] = 'display_data';\n",
              "          await google.colab.output.renderOutput(dataTable, element);\n",
              "          const docLink = document.createElement('div');\n",
              "          docLink.innerHTML = docLinkHtml;\n",
              "          element.appendChild(docLink);\n",
              "        }\n",
              "      </script>\n",
              "    </div>\n",
              "  </div>\n",
              "  "
            ]
          },
          "metadata": {},
          "execution_count": 50
        }
      ]
    },
    {
      "cell_type": "code",
      "source": [],
      "metadata": {
        "id": "4NJg4fOxi3YI"
      },
      "execution_count": null,
      "outputs": []
    }
  ]
}