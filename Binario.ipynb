{
  "nbformat": 4,
  "nbformat_minor": 0,
  "metadata": {
    "colab": {
      "provenance": []
    },
    "kernelspec": {
      "name": "python3",
      "display_name": "Python 3"
    },
    "language_info": {
      "name": "python"
    }
  },
  "cells": [
    {
      "cell_type": "code",
      "execution_count": null,
      "metadata": {
        "id": "gL2odtjmge0b"
      },
      "outputs": [],
      "source": [
        "!pip install pygad"
      ]
    },
    {
      "cell_type": "code",
      "source": [
        "import pygad\n",
        "import numpy as np"
      ],
      "metadata": {
        "id": "TRZZuIoJhHvh"
      },
      "execution_count": 2,
      "outputs": []
    },
    {
      "cell_type": "code",
      "source": [
        "itens = [\n",
        "    (\"canivete\",10,1),\n",
        "    (\"feijão\",20,5),\n",
        "    (\"batatas\",15, 10),\n",
        "    (\"lanterna\",2,1),\n",
        "    (\"saco de dormir\", 30, 7),\n",
        "    (\"corda\",10,5),\n",
        "    (\"bussula\",30,1)    \n",
        "    ]\n",
        "limite_peso = 15\n",
        "\n",
        "def fintness_func(ga_instance,solution,solution_idx):\n",
        "  pontos = 0\n",
        "  peso = 0\n",
        "  for i in range(len(solution)):\n",
        "    if solution[i] == 1:\n",
        "      pontos += itens[i][1]\n",
        "      peso += itens[i][2]\n",
        "  if peso > limite_peso:\n",
        "    return -1\n",
        "  return pontos\n",
        "\n",
        "\n",
        "ga_instance = pygad.GA(\n",
        "    num_generations=500,\n",
        "    num_parents_mating=5,\n",
        "    fitness_func=fintness_func,\n",
        "    sol_per_pop=50,\n",
        "    num_genes=len(itens),\n",
        "    gene_type=int,\n",
        "    init_range_low=0,\n",
        "    init_range_high=2 #na prática 1\n",
        ")\n",
        "\n",
        "ga_instance.run()\n",
        "solution, solution_fitness, _ = ga_instance.best_solution()\n",
        "print(\"Melhor solução\", solution)\n",
        "print(\"Pontos: \", solution_fitness)\n",
        "#1 1 0 0 1 0 1"
      ],
      "metadata": {
        "colab": {
          "base_uri": "https://localhost:8080/"
        },
        "id": "O5mfAPlJj6S6",
        "outputId": "20da05f8-7c8d-4070-b30c-c7f85abb2fe8"
      },
      "execution_count": 13,
      "outputs": [
        {
          "output_type": "stream",
          "name": "stdout",
          "text": [
            "Melhor solução [1 1 0 1 1 0 1]\n",
            "Pontos:  92\n"
          ]
        }
      ]
    },
    {
      "cell_type": "code",
      "source": [],
      "metadata": {
        "id": "9eN2wEYMj0OG"
      },
      "execution_count": null,
      "outputs": []
    }
  ]
}