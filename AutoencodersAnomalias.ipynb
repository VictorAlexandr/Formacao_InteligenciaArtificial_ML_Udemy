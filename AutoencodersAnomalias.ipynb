{
  "nbformat": 4,
  "nbformat_minor": 0,
  "metadata": {
    "colab": {
      "provenance": [],
      "gpuType": "T4"
    },
    "kernelspec": {
      "name": "python3",
      "display_name": "Python 3"
    },
    "language_info": {
      "name": "python"
    },
    "accelerator": "GPU",
    "gpuClass": "standard"
  },
  "cells": [
    {
      "cell_type": "code",
      "source": [
        "import numpy as np\n",
        "import matplotlib.pyplot as plt\n",
        "from keras.datasets import mnist\n",
        "from keras.models import Sequential, Model\n",
        "from keras.layers import Dense, Input\n",
        "from sklearn.metrics import mean_squared_error"
      ],
      "metadata": {
        "id": "ZExQasg5oNVR"
      },
      "execution_count": 2,
      "outputs": []
    },
    {
      "cell_type": "code",
      "source": [
        "(X_train,_),(X_test,_) = mnist.load_data()"
      ],
      "metadata": {
        "colab": {
          "base_uri": "https://localhost:8080/"
        },
        "id": "RPeQtgsfE-jO",
        "outputId": "9c7cfd5f-930e-4733-cc90-24311d4b2674"
      },
      "execution_count": 3,
      "outputs": [
        {
          "output_type": "stream",
          "name": "stdout",
          "text": [
            "Downloading data from https://storage.googleapis.com/tensorflow/tf-keras-datasets/mnist.npz\n",
            "11490434/11490434 [==============================] - 0s 0us/step\n"
          ]
        }
      ]
    },
    {
      "cell_type": "code",
      "source": [
        "X_train = X_train.astype(\"float32\") / 255.0\n",
        "X_test = X_test.astype(\"float32\") / 255.0"
      ],
      "metadata": {
        "id": "xwBUtrcHFLDX"
      },
      "execution_count": 4,
      "outputs": []
    },
    {
      "cell_type": "code",
      "source": [
        "X_train = X_train.reshape((len(X_train), np.prod(X_train.shape[1:])))\n",
        "X_test = X_test.reshape((len(X_test), np.prod(X_test.shape[1:])))"
      ],
      "metadata": {
        "id": "rrtRABhMFhEY"
      },
      "execution_count": 6,
      "outputs": []
    },
    {
      "cell_type": "code",
      "source": [
        "X_test_noisy = X_test + 0.5 * np.random.normal(loc=0.0, scale=1.0, size=X_test.shape)\n",
        "X_test_noisy = np.clip(X_test_noisy, 0.0, 1.0)"
      ],
      "metadata": {
        "id": "NE6r9ZBnFvcp"
      },
      "execution_count": 7,
      "outputs": []
    },
    {
      "cell_type": "code",
      "source": [
        "inputs = Input(shape=(784,))\n",
        "encoder = Dense(32, activation='relu')(inputs)\n",
        "decoder = Dense(784, activation='sigmoid')(encoder)\n",
        "autoencoder = Model(inputs, decoder)\n",
        "autoencoder.compile(optimizer=\"adam\", loss='binary_crossentropy')\n",
        "autoencoder.fit(X_train, X_train, epochs=100, batch_size=256, shuffle=True)"
      ],
      "metadata": {
        "id": "ubH79yzxGQRY"
      },
      "execution_count": null,
      "outputs": []
    },
    {
      "cell_type": "code",
      "source": [
        "test_normal_decoded = autoencoder.predict(X_test)\n",
        "test_anomalies_decoded = autoencoder.predict(X_test_noisy)"
      ],
      "metadata": {
        "colab": {
          "base_uri": "https://localhost:8080/"
        },
        "id": "4azypHSqHD1z",
        "outputId": "6ce69961-9c6f-4bbc-ff75-2cd766bbfc3f"
      },
      "execution_count": 9,
      "outputs": [
        {
          "output_type": "stream",
          "name": "stdout",
          "text": [
            "313/313 [==============================] - 1s 2ms/step\n",
            "313/313 [==============================] - 1s 2ms/step\n"
          ]
        }
      ]
    },
    {
      "cell_type": "code",
      "source": [
        "mse_normal = mean_squared_error(X_test,test_normal_decoded )\n",
        "mse_anomalies = mean_squared_error(X_test_noisy,test_anomalies_decoded)\n",
        "print(\"MSE Normal: \",mse_normal )\n",
        "print(\"MSE Anomalias: \", mse_anomalies)"
      ],
      "metadata": {
        "colab": {
          "base_uri": "https://localhost:8080/"
        },
        "id": "YhRbUeA-H-j5",
        "outputId": "c36a8746-667b-456e-e174-6da30de5e670"
      },
      "execution_count": 10,
      "outputs": [
        {
          "output_type": "stream",
          "name": "stdout",
          "text": [
            "MSE Normal:  0.009549617\n",
            "MSE Anomalias:  0.16660437361929442\n"
          ]
        }
      ]
    },
    {
      "cell_type": "code",
      "source": [
        "print(\"Diferença do MSE: \", mse_anomalies - mse_normal )"
      ],
      "metadata": {
        "colab": {
          "base_uri": "https://localhost:8080/"
        },
        "id": "ZBYWx2LxI8HY",
        "outputId": "d4401fd2-3e59-4e11-e562-f96ef6d87724"
      },
      "execution_count": 12,
      "outputs": [
        {
          "output_type": "stream",
          "name": "stdout",
          "text": [
            "Diferença do MSE:  0.157054756783283\n"
          ]
        }
      ]
    },
    {
      "cell_type": "code",
      "source": [],
      "metadata": {
        "id": "p3wYFnKrJFkI"
      },
      "execution_count": null,
      "outputs": []
    }
  ]
}