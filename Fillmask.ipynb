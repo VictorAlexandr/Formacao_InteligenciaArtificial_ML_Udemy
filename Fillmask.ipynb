{
  "nbformat": 4,
  "nbformat_minor": 0,
  "metadata": {
    "colab": {
      "provenance": []
    },
    "kernelspec": {
      "name": "python3",
      "display_name": "Python 3"
    },
    "language_info": {
      "name": "python"
    }
  },
  "cells": [
    {
      "cell_type": "code",
      "execution_count": null,
      "metadata": {
        "id": "yBvga6WBBa2y"
      },
      "outputs": [],
      "source": [
        "!pip install transformers"
      ]
    },
    {
      "cell_type": "code",
      "source": [
        "import transformers\n",
        "from transformers import pipeline"
      ],
      "metadata": {
        "id": "Mk4Umf3IBwT9"
      },
      "execution_count": null,
      "outputs": []
    },
    {
      "cell_type": "code",
      "source": [
        "mascarar = pipeline(\"fill-mask\", model=\"neuralmind/bert-base-portuguese-cased\")\n",
        "texto = mascarar(\"Existe uma change do corpo cair no [MASK]\")\n",
        "for x in range(len(texto)):\n",
        "  print(texto[x])"
      ],
      "metadata": {
        "colab": {
          "base_uri": "https://localhost:8080/"
        },
        "id": "wzeu6ptHBzhy",
        "outputId": "633c3897-30fa-4ee9-f2d3-f17172beb239"
      },
      "execution_count": null,
      "outputs": [
        {
          "output_type": "stream",
          "name": "stderr",
          "text": [
            "Some weights of the model checkpoint at neuralmind/bert-base-portuguese-cased were not used when initializing BertForMaskedLM: ['cls.seq_relationship.weight', 'cls.seq_relationship.bias']\n",
            "- This IS expected if you are initializing BertForMaskedLM from the checkpoint of a model trained on another task or with another architecture (e.g. initializing a BertForSequenceClassification model from a BertForPreTraining model).\n",
            "- This IS NOT expected if you are initializing BertForMaskedLM from the checkpoint of a model that you expect to be exactly identical (initializing a BertForSequenceClassification model from a BertForSequenceClassification model).\n"
          ]
        },
        {
          "output_type": "stream",
          "name": "stdout",
          "text": [
            "{'score': 0.27437692880630493, 'token': 8105, 'token_str': 'chão', 'sequence': 'Existe uma change do corpo cair no chão'}\n",
            "{'score': 0.11440709978342056, 'token': 3037, 'token_str': 'solo', 'sequence': 'Existe uma change do corpo cair no solo'}\n",
            "{'score': 0.04586291313171387, 'token': 119, 'token_str': '.', 'sequence': 'Existe uma change do corpo cair no.'}\n",
            "{'score': 0.04171578586101532, 'token': 388, 'token_str': 'ar', 'sequence': 'Existe uma change do corpo cair no ar'}\n",
            "{'score': 0.027951421216130257, 'token': 528, 'token_str': 'mar', 'sequence': 'Existe uma change do corpo cair no mar'}\n"
          ]
        }
      ]
    },
    {
      "cell_type": "code",
      "source": [
        "texto = mascarar([\"Existe uma change do corpo cair no [MASK]\",\"Brasília é a capital do [MASK]\"])\n",
        "for x in range(len(texto)):\n",
        "  print(texto[x])"
      ],
      "metadata": {
        "colab": {
          "base_uri": "https://localhost:8080/"
        },
        "id": "QjRk4bw_CSrP",
        "outputId": "41be0085-2e83-4451-ba12-05f4f619ef31"
      },
      "execution_count": null,
      "outputs": [
        {
          "output_type": "stream",
          "name": "stdout",
          "text": [
            "[{'score': 0.27437692880630493, 'token': 8105, 'token_str': 'chão', 'sequence': 'Existe uma change do corpo cair no chão'}, {'score': 0.11440709978342056, 'token': 3037, 'token_str': 'solo', 'sequence': 'Existe uma change do corpo cair no solo'}, {'score': 0.04586291313171387, 'token': 119, 'token_str': '.', 'sequence': 'Existe uma change do corpo cair no.'}, {'score': 0.04171578586101532, 'token': 388, 'token_str': 'ar', 'sequence': 'Existe uma change do corpo cair no ar'}, {'score': 0.027951421216130257, 'token': 528, 'token_str': 'mar', 'sequence': 'Existe uma change do corpo cair no mar'}]\n",
            "[{'score': 0.5167422294616699, 'token': 771, 'token_str': 'Brasil', 'sequence': 'Brasília é a capital do Brasil'}, {'score': 0.19815507531166077, 'token': 806, 'token_str': 'país', 'sequence': 'Brasília é a capital do país'}, {'score': 0.037647198885679245, 'token': 4953, 'token_str': 'País', 'sequence': 'Brasília é a capital do País'}, {'score': 0.024318639189004898, 'token': 1147, 'token_str': 'mundo', 'sequence': 'Brasília é a capital do mundo'}, {'score': 0.015301602892577648, 'token': 2200, 'token_str': 'futebol', 'sequence': 'Brasília é a capital do futebol'}]\n"
          ]
        }
      ]
    },
    {
      "cell_type": "code",
      "source": [],
      "metadata": {
        "id": "NFlOX8fYC6IP"
      },
      "execution_count": null,
      "outputs": []
    }
  ]
}